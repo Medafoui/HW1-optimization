{
 "cells": [
  {
   "cell_type": "markdown",
   "metadata": {},
   "source": [
    "#### Optimization & Analytics 23/24\n",
    "\n",
    "#### Names:\n",
    "\n",
    "##### - Mohamed Afif Chifaoui (100452024)\n",
    "##### - Ricardo Vazquez Alvarez (100417117)\n",
    "\n",
    "---"
   ]
  },
  {
   "cell_type": "markdown",
   "metadata": {},
   "source": [
    "# Linear and Discrete Models HW1\n",
    "\n",
    "\n",
    "## Problem statement\n",
    "\n",
    "\n",
    "A service company operates in three shifts (Morning, Afternoon, Night) and needs to determine the number of employees assigned to each shift. The objective is to minimize labor costs while ensuring sufficient staffing levels for service demand.\n",
    "\n",
    "Firstly, we can determine that there are two types of sets for the model (the sets of **Shifts** and the **Employee types**). \n",
    "\n",
    "1. $I$: Set of Shifts (Morning, Afternoon, Nights)\n",
    "2. $J$: Set of employee types (Regular, Part-time, Temporary, On-call, Training, Manager, Security).\n",
    "\n",
    "\n",
    "\n",
    "### Parameters\n",
    "\n",
    "1. $D_{i}$: Service demand for each shift. ($i \\in I$)\n",
    "2. $E_{j}$: Available number of employees of each type. ($j \\in J$)\n",
    "3. $C_{j}$: Cost for each employee type. ($c \\in C$)\n",
    "\n",
    "\n",
    "\n",
    "The variables are those employees with their type ($j$) to be assigned to a shift ($i$).\n",
    "- $X_{ij}$: Number of employees of type $j$ assigned to shift $i$.\n",
    "\n",
    "\n",
    "### Objective function\n",
    "\n",
    "Minimize the total labor costs per day knowing which type of employee is the best option\n",
    "\n",
    "\n",
    "$$\\text{Minimize} \\;\\; Z = \\sum_{i\\in I}^{}\\sum_{j\\in J}^{} C_{j}\\cdot X_{ij}$$\n",
    "\n",
    "\n",
    "\n",
    "### Decision Variables\n",
    "\n",
    "The following are the individual decision variables that will be used:\n",
    "\n",
    "- $x_{11}$: Number of  Regular employees assigned to the Morning shift.\n",
    "- $x_{12}$: Number of PartTime employees assigned to the Morning shift.\n",
    "- $x_{13}$: Number of Temporary employees assigned to the Morning shift.\n",
    "- $x_{14}$: Number of OnCall employees assigned to the Morning shift.\n",
    "- $x_{15}$: Number of Training employees assigned to the Morning shift.\n",
    "- $x_{16}$: Number of Manager employees assigned to the Morning shift.\n",
    "- $x_{17}$: Number of Security employees assigned to the Morning shift.\n",
    "- $x_{21}$: Number of  Regular employees assigned to the Afternoon shift.\n",
    "- $x_{22}$: Number of PartTime employees assigned to the Afternoon shift.\n",
    "- $x_{23}$: Number of Temporary employees assigned to the Afternoon shift.\n",
    "- $x_{24}$: Number of OnCall employees assigned to the Afternoon shift.\n",
    "- $x_{25}$: Number of Training employees assigned to the Afternoon shift.\n",
    "- $x_{26}$: Number of Manager employees for the Afternoon shift.\n",
    "- $x_{27}$: Number of Security employees for the Afternoon shift.\n",
    "- $x_{31}$: Number of Regular employees for the Night shift.\n",
    "- $x_{32}$: Number of PartTime employees on vacation during the Night shift.\n",
    "- $x_{33}$: Number of Temporary employees on vacation during the Night shift.\n",
    "- $x_{34}$: Number of OnCall employees on vacation during the Night shift.\n",
    "- $x_{35}$: Number of Training employees on training during the Night shift.\n",
    "- $x_{36}$: Number of Manager employees on training during the Night shift.\n",
    "- $x_{37}$: Number of Security employees on training during the Night shift.\n",
    "\n",
    "\n",
    "### Constraints\n",
    "\n",
    "\n",
    "1. Demand constraint: Ensure that offer (total employees in a shift) is higher than demand on a given shift\n",
    "\n",
    "    $$\\sum_{j\\in J}^{}  X_{i,j} \\geq \\sum_{i\\in I}^{} D_{i}$$\n",
    "\n",
    "\n",
    "2. Requisites constraint: Ensure that the number of employees for each employee type chosen does not exceed the amount of employees available.\n",
    "\n",
    "\n",
    "\n",
    "    $$X_{1, j} \\leq E_{j} \\;\\; \\text{for } j \\in J$$\n",
    "    $$X_{2, j} \\leq E_{j} \\;\\; \\text{for } j \\in J$$\n",
    "    $$X_{3, j} \\leq E_{j} \\;\\; \\text{for } j \\in J$$\n",
    "\n",
    "\n",
    "\n",
    "\n",
    "\n",
    "3. Training regular constraint: Each training employee must have at least 1 regular employee\n",
    "\n",
    "\n",
    "    $$X_{15}  \\leq X_{11} $$\n",
    "    $$X_{25}  \\leq X_{21} $$\n",
    "    $$X_{35}  \\leq X_{31} $$\n",
    "\n",
    "\n",
    "\n",
    "4. Managers constraint: at least 3 managers per shift\n",
    "\n",
    "    $$X_{16} \\geq 3 $$\n",
    "    $$X_{26} \\geq 3 $$\n",
    "    $$X_{36} \\geq 3 $$\n",
    "\n",
    "\n",
    "5. Security constraint: at least 1 security employee per shift\n",
    "\n",
    "\n",
    "\n",
    "    $$X_{17} \\geq 1 $$\n",
    "    $$X_{27} \\geq 1 $$\n",
    "    $$X_{37} \\geq 1 $$\n",
    "\n",
    "4. Non-negativity constraints:\n",
    "\n",
    "    $$ X_{ij} \\geq 0 \\quad(\\text{for all}\\; i\\in I,\\; j\\in J)$$     \n"
   ]
  },
  {
   "cell_type": "markdown",
   "metadata": {},
   "source": [
    "### PART A: General formulation"
   ]
  },
  {
   "cell_type": "code",
   "execution_count": 1,
   "metadata": {},
   "outputs": [],
   "source": [
    "import pandas as pd\n",
    "import numpy as np\n",
    "from pyomo.environ import * \n",
    "import math"
   ]
  },
  {
   "cell_type": "markdown",
   "metadata": {},
   "source": [
    "Creating the model, parameters, cost function and the variables."
   ]
  },
  {
   "cell_type": "code",
   "execution_count": 8,
   "metadata": {},
   "outputs": [],
   "source": [
    "# The model\n",
    "model = ConcreteModel()\n",
    "\n",
    "# Type of different Shifts\n",
    "model.i = Set(initialize = ['Morning', 'Afternoon', 'Night'], doc = 'Shift')\n",
    "\n",
    "# The types of different Employees\n",
    "model.j = Set(initialize = ['Regular', 'PartTime', 'Temp', 'OnCall', 'Training', 'Managers', 'Security'], doc = 'EmployeeType')\n",
    "\n",
    "# Total amount of workers needed on a shift -> DEMAND\n",
    "model.total_workers_needed_onshift = Param(model.i, initialize= {'Morning':30, 'Afternoon': 30, 'Night': 30}) \n",
    "\n",
    "# Total amount of different workers we have available for each type (each are independent - a worker of one type cannot be of another type) -> AVAILABILITY\n",
    "model.indiv_workers_have = Param(model.j, initialize={'Regular': 50, 'PartTime': 10, 'Temp': 10, \n",
    "                                                      'OnCall': 40, 'Training': 50, 'Managers': 10, 'Security': 5})\n",
    "\n",
    "\n",
    "# Cost of each worker for each shift -> COST\n",
    "costperworkershift = {\n",
    "\n",
    "    # total 21 decision variables we need to solve for \n",
    "    # taking into account the cost.\n",
    "    ('Morning', 'Regular'): 30,\n",
    "    ('Morning', 'PartTime'): 20,\n",
    "    ('Morning', 'Temp'): 15,\n",
    "    ('Morning', 'OnCall'): 25,\n",
    "    ('Morning', 'Training'): 10,\n",
    "    ('Morning', 'Managers'): 55,\n",
    "    ('Morning', 'Security'): 40,\n",
    "\n",
    "    ('Afternoon', 'Regular'): 30,\n",
    "    ('Afternoon', 'PartTime'): 20,\n",
    "    ('Afternoon', 'Temp'): 15,\n",
    "    ('Afternoon', 'OnCall'): 25,\n",
    "    ('Afternoon', 'Training'): 10,\n",
    "    ('Afternoon', 'Managers'): 55,\n",
    "    ('Afternoon', 'Security'): 40,\n",
    "\n",
    "    ('Night', 'Regular'): 50,\n",
    "    ('Night', 'PartTime'): 20,\n",
    "    ('Night', 'Temp'): 15,\n",
    "    ('Night', 'OnCall'): 30,\n",
    "    ('Night', 'Training'): 10,\n",
    "    ('Night', 'Managers'): 60,\n",
    "    ('Night', 'Security'): 60,\n",
    " \n",
    "\n",
    "}\n",
    "\n",
    "# Cost function using the above variable costperworkershift\n",
    "model.Cost = Param(model.i, model.j, initialize = costperworkershift, doc = 'cost of queries')"
   ]
  },
  {
   "cell_type": "markdown",
   "metadata": {},
   "source": [
    "Objective function:\n",
    "\n",
    "    Minimize the cost per day."
   ]
  },
  {
   "cell_type": "code",
   "execution_count": 9,
   "metadata": {},
   "outputs": [],
   "source": [
    "# Decision variables we want to solve for\n",
    "# must be NonNegative since we have that condition (trivial constraint) and must be integers\n",
    "# (cannot have a decimal amount of a person).\n",
    "model.x = Var(model.i, model.j, doc = 'Planning', within=NonNegativeIntegers)\n",
    "\n",
    "# Objective function: minimize the total cost in a day\n",
    "def objective_rule(model):\n",
    "    return sum(model.Cost[i,j]*model.x[i,j] for i in model.i for j in model.j)\n",
    "\n",
    "model.objective = Objective(rule = objective_rule, sense = minimize, doc = 'cost per day')"
   ]
  },
  {
   "cell_type": "markdown",
   "metadata": {},
   "source": [
    "#### Constraint 1\n",
    "\n",
    "    Meet the demand for the shift in the day."
   ]
  },
  {
   "cell_type": "code",
   "execution_count": 10,
   "metadata": {},
   "outputs": [],
   "source": [
    "# Demand on the shift. Each shift has different demands\n",
    "\n",
    "def demand(model, i):\n",
    "    # i = shift, j = employee type \n",
    "    # we are adding all the number of employees to be the amount needed on that shift\n",
    "    return sum(model.x[i,j] for j in model.j)>=model.total_workers_needed_onshift[i]\n",
    "\n",
    "model.demand = Constraint(model.i, rule = demand, doc= 'employee demand during shift')"
   ]
  },
  {
   "cell_type": "markdown",
   "metadata": {},
   "source": [
    "#### Constraint 2\n",
    "    Make sure are not exceeding the number of employees we have of each type."
   ]
  },
  {
   "cell_type": "code",
   "execution_count": 11,
   "metadata": {},
   "outputs": [],
   "source": [
    "#Make sure that we are within the constraint of the amount of employees we have\n",
    "\n",
    "def requisites_rule(model, i, j):\n",
    "    # Each element in column i for employee type j should be less than or equal to the \n",
    "    # available amount.\n",
    "    return model.x[i, j] <= model.indiv_workers_have[j]\n",
    "\n",
    "model.requisites_constraint = Constraint(model.i, model.j, rule=requisites_rule)\n"
   ]
  },
  {
   "cell_type": "markdown",
   "metadata": {},
   "source": [
    "#### Constraint 3\n",
    "    Make sure that an employee in training is accompanied by an employee of type regular."
   ]
  },
  {
   "cell_type": "code",
   "execution_count": 12,
   "metadata": {},
   "outputs": [],
   "source": [
    "# If we choose a training, we must also have a regular to accompany and train them (1 regular per training)\n",
    "\n",
    "def training_regular(model, i):\n",
    "    return model.x[i, 'Training'] <= model.x[i, 'Regular']\n",
    "\n",
    "model.train_reg = Constraint(model.i, rule = training_regular, doc = 'Each training accompanied by a Regular')"
   ]
  },
  {
   "cell_type": "markdown",
   "metadata": {},
   "source": [
    "#### Constraint 4\n",
    "    Must have at least 3 managers at all shifts."
   ]
  },
  {
   "cell_type": "code",
   "execution_count": 13,
   "metadata": {},
   "outputs": [],
   "source": [
    "# We need at least 3 managers at all shifts:\n",
    "\n",
    "def managers_3(model, i):\n",
    "    return model.x[i, 'Managers'] >= 3\n",
    "\n",
    "model.managers_3 = Constraint(model.i, rule = managers_3, doc = 'Must have at least 3 managers')"
   ]
  },
  {
   "cell_type": "markdown",
   "metadata": {},
   "source": [
    "#### Constraint 5\n",
    "    Need at least one security per shift"
   ]
  },
  {
   "cell_type": "code",
   "execution_count": 14,
   "metadata": {},
   "outputs": [],
   "source": [
    "# We need at least 1 Security per shift:\n",
    "\n",
    "def security(model, i):\n",
    "\n",
    "    # i = shift, j = employee type\n",
    "    return model.x[i, 'Security'] >= 1\n",
    "\n",
    "model.security = Constraint(model.i, rule = security, doc = 'Must have at least 1 Security per shift')"
   ]
  },
  {
   "cell_type": "markdown",
   "metadata": {},
   "source": [
    "Detailed representation of our Pyomo model and its components."
   ]
  },
  {
   "cell_type": "code",
   "execution_count": 15,
   "metadata": {},
   "outputs": [
    {
     "name": "stdout",
     "output_type": "stream",
     "text": [
      "5 Set Declarations\n",
      "    Cost_index : Size=1, Index=None, Ordered=True\n",
      "        Key  : Dimen : Domain : Size : Members\n",
      "        None :     2 :    i*j :   21 : {('Morning', 'Regular'), ('Morning', 'PartTime'), ('Morning', 'Temp'), ('Morning', 'OnCall'), ('Morning', 'Training'), ('Morning', 'Managers'), ('Morning', 'Security'), ('Afternoon', 'Regular'), ('Afternoon', 'PartTime'), ('Afternoon', 'Temp'), ('Afternoon', 'OnCall'), ('Afternoon', 'Training'), ('Afternoon', 'Managers'), ('Afternoon', 'Security'), ('Night', 'Regular'), ('Night', 'PartTime'), ('Night', 'Temp'), ('Night', 'OnCall'), ('Night', 'Training'), ('Night', 'Managers'), ('Night', 'Security')}\n",
      "    i : Shift\n",
      "        Size=1, Index=None, Ordered=Insertion\n",
      "        Key  : Dimen : Domain : Size : Members\n",
      "        None :     1 :    Any :    3 : {'Morning', 'Afternoon', 'Night'}\n",
      "    j : EmployeeType\n",
      "        Size=1, Index=None, Ordered=Insertion\n",
      "        Key  : Dimen : Domain : Size : Members\n",
      "        None :     1 :    Any :    7 : {'Regular', 'PartTime', 'Temp', 'OnCall', 'Training', 'Managers', 'Security'}\n",
      "    requisites_constraint_index : Size=1, Index=None, Ordered=True\n",
      "        Key  : Dimen : Domain : Size : Members\n",
      "        None :     2 :    i*j :   21 : {('Morning', 'Regular'), ('Morning', 'PartTime'), ('Morning', 'Temp'), ('Morning', 'OnCall'), ('Morning', 'Training'), ('Morning', 'Managers'), ('Morning', 'Security'), ('Afternoon', 'Regular'), ('Afternoon', 'PartTime'), ('Afternoon', 'Temp'), ('Afternoon', 'OnCall'), ('Afternoon', 'Training'), ('Afternoon', 'Managers'), ('Afternoon', 'Security'), ('Night', 'Regular'), ('Night', 'PartTime'), ('Night', 'Temp'), ('Night', 'OnCall'), ('Night', 'Training'), ('Night', 'Managers'), ('Night', 'Security')}\n",
      "    x_index : Size=1, Index=None, Ordered=True\n",
      "        Key  : Dimen : Domain : Size : Members\n",
      "        None :     2 :    i*j :   21 : {('Morning', 'Regular'), ('Morning', 'PartTime'), ('Morning', 'Temp'), ('Morning', 'OnCall'), ('Morning', 'Training'), ('Morning', 'Managers'), ('Morning', 'Security'), ('Afternoon', 'Regular'), ('Afternoon', 'PartTime'), ('Afternoon', 'Temp'), ('Afternoon', 'OnCall'), ('Afternoon', 'Training'), ('Afternoon', 'Managers'), ('Afternoon', 'Security'), ('Night', 'Regular'), ('Night', 'PartTime'), ('Night', 'Temp'), ('Night', 'OnCall'), ('Night', 'Training'), ('Night', 'Managers'), ('Night', 'Security')}\n",
      "\n",
      "3 Param Declarations\n",
      "    Cost : cost of queries\n",
      "        Size=21, Index=Cost_index, Domain=Any, Default=None, Mutable=False\n",
      "        Key                       : Value\n",
      "        ('Afternoon', 'Managers') :    55\n",
      "          ('Afternoon', 'OnCall') :    25\n",
      "        ('Afternoon', 'PartTime') :    20\n",
      "         ('Afternoon', 'Regular') :    30\n",
      "        ('Afternoon', 'Security') :    40\n",
      "            ('Afternoon', 'Temp') :    15\n",
      "        ('Afternoon', 'Training') :    10\n",
      "          ('Morning', 'Managers') :    55\n",
      "            ('Morning', 'OnCall') :    25\n",
      "          ('Morning', 'PartTime') :    20\n",
      "           ('Morning', 'Regular') :    30\n",
      "          ('Morning', 'Security') :    40\n",
      "              ('Morning', 'Temp') :    15\n",
      "          ('Morning', 'Training') :    10\n",
      "            ('Night', 'Managers') :    60\n",
      "              ('Night', 'OnCall') :    30\n",
      "            ('Night', 'PartTime') :    20\n",
      "             ('Night', 'Regular') :    50\n",
      "            ('Night', 'Security') :    60\n",
      "                ('Night', 'Temp') :    15\n",
      "            ('Night', 'Training') :    10\n",
      "    indiv_workers_have : Size=7, Index=j, Domain=Any, Default=None, Mutable=False\n",
      "        Key      : Value\n",
      "        Managers :    10\n",
      "          OnCall :    40\n",
      "        PartTime :    10\n",
      "         Regular :    50\n",
      "        Security :     5\n",
      "            Temp :    10\n",
      "        Training :    50\n",
      "    total_workers_needed_onshift : Size=3, Index=i, Domain=Any, Default=None, Mutable=False\n",
      "        Key       : Value\n",
      "        Afternoon :    30\n",
      "          Morning :    30\n",
      "            Night :    30\n",
      "\n",
      "1 Var Declarations\n",
      "    x : Planning\n",
      "        Size=21, Index=x_index\n",
      "        Key                       : Lower : Value : Upper : Fixed : Stale : Domain\n",
      "        ('Afternoon', 'Managers') :     0 :  None :  None : False :  True : NonNegativeIntegers\n",
      "          ('Afternoon', 'OnCall') :     0 :  None :  None : False :  True : NonNegativeIntegers\n",
      "        ('Afternoon', 'PartTime') :     0 :  None :  None : False :  True : NonNegativeIntegers\n",
      "         ('Afternoon', 'Regular') :     0 :  None :  None : False :  True : NonNegativeIntegers\n",
      "        ('Afternoon', 'Security') :     0 :  None :  None : False :  True : NonNegativeIntegers\n",
      "            ('Afternoon', 'Temp') :     0 :  None :  None : False :  True : NonNegativeIntegers\n",
      "        ('Afternoon', 'Training') :     0 :  None :  None : False :  True : NonNegativeIntegers\n",
      "          ('Morning', 'Managers') :     0 :  None :  None : False :  True : NonNegativeIntegers\n",
      "            ('Morning', 'OnCall') :     0 :  None :  None : False :  True : NonNegativeIntegers\n",
      "          ('Morning', 'PartTime') :     0 :  None :  None : False :  True : NonNegativeIntegers\n",
      "           ('Morning', 'Regular') :     0 :  None :  None : False :  True : NonNegativeIntegers\n",
      "          ('Morning', 'Security') :     0 :  None :  None : False :  True : NonNegativeIntegers\n",
      "              ('Morning', 'Temp') :     0 :  None :  None : False :  True : NonNegativeIntegers\n",
      "          ('Morning', 'Training') :     0 :  None :  None : False :  True : NonNegativeIntegers\n",
      "            ('Night', 'Managers') :     0 :  None :  None : False :  True : NonNegativeIntegers\n",
      "              ('Night', 'OnCall') :     0 :  None :  None : False :  True : NonNegativeIntegers\n",
      "            ('Night', 'PartTime') :     0 :  None :  None : False :  True : NonNegativeIntegers\n",
      "             ('Night', 'Regular') :     0 :  None :  None : False :  True : NonNegativeIntegers\n",
      "            ('Night', 'Security') :     0 :  None :  None : False :  True : NonNegativeIntegers\n",
      "                ('Night', 'Temp') :     0 :  None :  None : False :  True : NonNegativeIntegers\n",
      "            ('Night', 'Training') :     0 :  None :  None : False :  True : NonNegativeIntegers\n",
      "\n",
      "1 Objective Declarations\n",
      "    objective : cost per day\n",
      "        Size=1, Index=None, Active=True\n",
      "        Key  : Active : Sense    : Expression\n",
      "        None :   True : minimize : 30*x[Morning,Regular] + 20*x[Morning,PartTime] + 15*x[Morning,Temp] + 25*x[Morning,OnCall] + 10*x[Morning,Training] + 55*x[Morning,Managers] + 40*x[Morning,Security] + 30*x[Afternoon,Regular] + 20*x[Afternoon,PartTime] + 15*x[Afternoon,Temp] + 25*x[Afternoon,OnCall] + 10*x[Afternoon,Training] + 55*x[Afternoon,Managers] + 40*x[Afternoon,Security] + 50*x[Night,Regular] + 20*x[Night,PartTime] + 15*x[Night,Temp] + 30*x[Night,OnCall] + 10*x[Night,Training] + 60*x[Night,Managers] + 60*x[Night,Security]\n",
      "\n",
      "5 Constraint Declarations\n",
      "    demand : employee demand during shift\n",
      "        Size=3, Index=i, Active=True\n",
      "        Key       : Lower : Body                                                                                                                                                           : Upper : Active\n",
      "        Afternoon :  30.0 : x[Afternoon,Regular] + x[Afternoon,PartTime] + x[Afternoon,Temp] + x[Afternoon,OnCall] + x[Afternoon,Training] + x[Afternoon,Managers] + x[Afternoon,Security] :  +Inf :   True\n",
      "          Morning :  30.0 :               x[Morning,Regular] + x[Morning,PartTime] + x[Morning,Temp] + x[Morning,OnCall] + x[Morning,Training] + x[Morning,Managers] + x[Morning,Security] :  +Inf :   True\n",
      "            Night :  30.0 :                             x[Night,Regular] + x[Night,PartTime] + x[Night,Temp] + x[Night,OnCall] + x[Night,Training] + x[Night,Managers] + x[Night,Security] :  +Inf :   True\n",
      "    managers_3 : Must have at least 3 managers\n",
      "        Size=3, Index=i, Active=True\n",
      "        Key       : Lower : Body                  : Upper : Active\n",
      "        Afternoon :   3.0 : x[Afternoon,Managers] :  +Inf :   True\n",
      "          Morning :   3.0 :   x[Morning,Managers] :  +Inf :   True\n",
      "            Night :   3.0 :     x[Night,Managers] :  +Inf :   True\n",
      "    requisites_constraint : Size=21, Index=requisites_constraint_index, Active=True\n",
      "        Key                       : Lower : Body                  : Upper : Active\n",
      "        ('Afternoon', 'Managers') :  -Inf : x[Afternoon,Managers] :  10.0 :   True\n",
      "          ('Afternoon', 'OnCall') :  -Inf :   x[Afternoon,OnCall] :  40.0 :   True\n",
      "        ('Afternoon', 'PartTime') :  -Inf : x[Afternoon,PartTime] :  10.0 :   True\n",
      "         ('Afternoon', 'Regular') :  -Inf :  x[Afternoon,Regular] :  50.0 :   True\n",
      "        ('Afternoon', 'Security') :  -Inf : x[Afternoon,Security] :   5.0 :   True\n",
      "            ('Afternoon', 'Temp') :  -Inf :     x[Afternoon,Temp] :  10.0 :   True\n",
      "        ('Afternoon', 'Training') :  -Inf : x[Afternoon,Training] :  50.0 :   True\n",
      "          ('Morning', 'Managers') :  -Inf :   x[Morning,Managers] :  10.0 :   True\n",
      "            ('Morning', 'OnCall') :  -Inf :     x[Morning,OnCall] :  40.0 :   True\n",
      "          ('Morning', 'PartTime') :  -Inf :   x[Morning,PartTime] :  10.0 :   True\n",
      "           ('Morning', 'Regular') :  -Inf :    x[Morning,Regular] :  50.0 :   True\n",
      "          ('Morning', 'Security') :  -Inf :   x[Morning,Security] :   5.0 :   True\n",
      "              ('Morning', 'Temp') :  -Inf :       x[Morning,Temp] :  10.0 :   True\n",
      "          ('Morning', 'Training') :  -Inf :   x[Morning,Training] :  50.0 :   True\n",
      "            ('Night', 'Managers') :  -Inf :     x[Night,Managers] :  10.0 :   True\n",
      "              ('Night', 'OnCall') :  -Inf :       x[Night,OnCall] :  40.0 :   True\n",
      "            ('Night', 'PartTime') :  -Inf :     x[Night,PartTime] :  10.0 :   True\n",
      "             ('Night', 'Regular') :  -Inf :      x[Night,Regular] :  50.0 :   True\n",
      "            ('Night', 'Security') :  -Inf :     x[Night,Security] :   5.0 :   True\n",
      "                ('Night', 'Temp') :  -Inf :         x[Night,Temp] :  10.0 :   True\n",
      "            ('Night', 'Training') :  -Inf :     x[Night,Training] :  50.0 :   True\n",
      "    security : Must have at least 1 Security per shift\n",
      "        Size=3, Index=i, Active=True\n",
      "        Key       : Lower : Body                  : Upper : Active\n",
      "        Afternoon :   1.0 : x[Afternoon,Security] :  +Inf :   True\n",
      "          Morning :   1.0 :   x[Morning,Security] :  +Inf :   True\n",
      "            Night :   1.0 :     x[Night,Security] :  +Inf :   True\n",
      "    train_reg : Each training accompanied by a Regular\n",
      "        Size=3, Index=i, Active=True\n",
      "        Key       : Lower : Body                                         : Upper : Active\n",
      "        Afternoon :  -Inf : x[Afternoon,Training] - x[Afternoon,Regular] :   0.0 :   True\n",
      "          Morning :  -Inf :     x[Morning,Training] - x[Morning,Regular] :   0.0 :   True\n",
      "            Night :  -Inf :         x[Night,Training] - x[Night,Regular] :   0.0 :   True\n",
      "\n",
      "15 Declarations: i j total_workers_needed_onshift indiv_workers_have Cost_index Cost x_index x objective demand requisites_constraint_index requisites_constraint train_reg managers_3 security\n"
     ]
    }
   ],
   "source": [
    "model.pprint()"
   ]
  },
  {
   "cell_type": "markdown",
   "metadata": {},
   "source": [
    "#### Solution to the model"
   ]
  },
  {
   "cell_type": "code",
   "execution_count": 16,
   "metadata": {},
   "outputs": [
    {
     "name": "stdout",
     "output_type": "stream",
     "text": [
      "x : Planning\n",
      "    Size=21, Index=x_index\n",
      "    Key                       : Lower : Value : Upper : Fixed : Stale : Domain\n",
      "    ('Afternoon', 'Managers') :     0 :   3.0 :  None : False : False : NonNegativeIntegers\n",
      "      ('Afternoon', 'OnCall') :     0 :   0.0 :  None : False : False : NonNegativeIntegers\n",
      "    ('Afternoon', 'PartTime') :     0 :   0.0 :  None : False : False : NonNegativeIntegers\n",
      "     ('Afternoon', 'Regular') :     0 :   8.0 :  None : False : False : NonNegativeIntegers\n",
      "    ('Afternoon', 'Security') :     0 :   1.0 :  None : False : False : NonNegativeIntegers\n",
      "        ('Afternoon', 'Temp') :     0 :  10.0 :  None : False : False : NonNegativeIntegers\n",
      "    ('Afternoon', 'Training') :     0 :   8.0 :  None : False : False : NonNegativeIntegers\n",
      "      ('Morning', 'Managers') :     0 :   3.0 :  None : False : False : NonNegativeIntegers\n",
      "        ('Morning', 'OnCall') :     0 :   0.0 :  None : False : False : NonNegativeIntegers\n",
      "      ('Morning', 'PartTime') :     0 :   0.0 :  None : False : False : NonNegativeIntegers\n",
      "       ('Morning', 'Regular') :     0 :   8.0 :  None : False : False : NonNegativeIntegers\n",
      "      ('Morning', 'Security') :     0 :   1.0 :  None : False : False : NonNegativeIntegers\n",
      "          ('Morning', 'Temp') :     0 :  10.0 :  None : False : False : NonNegativeIntegers\n",
      "      ('Morning', 'Training') :     0 :   8.0 :  None : False : False : NonNegativeIntegers\n",
      "        ('Night', 'Managers') :     0 :   3.0 :  None : False : False : NonNegativeIntegers\n",
      "          ('Night', 'OnCall') :     0 :   0.0 :  None : False : False : NonNegativeIntegers\n",
      "        ('Night', 'PartTime') :     0 :  10.0 :  None : False : False : NonNegativeIntegers\n",
      "         ('Night', 'Regular') :     0 :   3.0 :  None : False : False : NonNegativeIntegers\n",
      "        ('Night', 'Security') :     0 :   1.0 :  None : False : False : NonNegativeIntegers\n",
      "            ('Night', 'Temp') :     0 :  10.0 :  None : False : False : NonNegativeIntegers\n",
      "        ('Night', 'Training') :     0 :   3.0 :  None : False : False : NonNegativeIntegers\n"
     ]
    }
   ],
   "source": [
    "# Define a solver \n",
    "Solver = SolverFactory('glpk')\n",
    "\n",
    "# Obtain the solution\n",
    "Results = Solver.solve(model)\n",
    "\n",
    "# Display the solution\n",
    "model.x.display()"
   ]
  },
  {
   "cell_type": "markdown",
   "metadata": {},
   "source": [
    "With the final cost being the objective function value:"
   ]
  },
  {
   "cell_type": "code",
   "execution_count": 17,
   "metadata": {},
   "outputs": [
    {
     "data": {
      "text/plain": [
       "2120.0"
      ]
     },
     "execution_count": 17,
     "metadata": {},
     "output_type": "execute_result"
    }
   ],
   "source": [
    "# Total amount of money spent\n",
    "model.objective()"
   ]
  },
  {
   "cell_type": "markdown",
   "metadata": {},
   "source": [
    "### INTERPRETATION AND ANALYSIS"
   ]
  },
  {
   "cell_type": "markdown",
   "metadata": {},
   "source": [
    "For the 21 variables we have we can see that the **solution** is the following:\n",
    "\n",
    "- 3 Managers for the Morning shift ($x_{16}$)\n",
    "- 8 Regular employees for the Morning shift ($x_{11}$)\n",
    "- 1 Security employee for the Morning shift ($x_{17}$)\n",
    "- 10 Temporary employees for the Morning shift ($x_{13}$)\n",
    "- 8 Training employees for the Morning shift ($x_{15}$)\n",
    "\n",
    "\n",
    "- 3 Managers for the Afternoon shift ($x_{26}$)\n",
    "- 8 Regular employees for the Afternoon shift ($x_{21}$)\n",
    "- 1 Security employee for the Afternoon shift ($x_{27}$)\n",
    "- 10 Temporary employees for the Afternoon shift ($x_{23}$)\n",
    "- 8 Training employees for the Afternoon shift ($x_{25}$)\n",
    "\n",
    "\n",
    "\n",
    "- 3 Managers for the Night shift ($x_{36}$)\n",
    "- 10 PartTime employees for the Night shift ($x_{32}$)\n",
    "- 3 Regular employees for the Night shift ($x_{31}$)\n",
    "- 1 Security employee for the Night ($x_{37}$)\n",
    "- 10 Temporary employees for the Night shift ($x_{33}$)\n",
    "- 3 Training employees for the Night shift ($x_{35}$)\n",
    "\n",
    "\n",
    "In the end, a total of **2120 euros** will be spent to cover this service for one day.\n"
   ]
  },
  {
   "cell_type": "markdown",
   "metadata": {},
   "source": [
    "### Analysis of Multiple days:\n",
    "\n",
    "Now we can do this more systematically by placing all the previous code on the creation of the model into a function. This way we can simulate an entire **week's schedule** depending on the **demand per shift each day** and measure the different **costs** of each day. \n",
    "\n",
    "To do so it is also convenient to create a dataframe for the solution to the model including in the rows, the **shift type** and the column the **employee type**, where the actual data of the model is the number of employees chosen for the shift type and employee type (decision variables solution).\n",
    "\n",
    "It is done in the following way:\n",
    "\n",
    "1. **ComputeModel(demandonday:list)** $\\rightarrow$ takes in a list for the demand on each shift type (Morning, Afternoon, Night).\n",
    "\n",
    "2. **obtain_df_solution(model)** $\\rightarrow$ takes in the model and converts the results into a dataframe.\n"
   ]
  },
  {
   "cell_type": "code",
   "execution_count": 36,
   "metadata": {},
   "outputs": [],
   "source": [
    "def obtain_df_solution(model):\n",
    "    \n",
    "\n",
    "    \"\"\"\n",
    "    Creates a Pandas DataFrame representing the solution to the Pyomo model.\n",
    "\n",
    "    Parameters:\n",
    "    - model (pyomo.environ.ConcreteModel): Completed Pyomo model with constraints, parameters,\n",
    "      variables, cost, and objective function.\n",
    "\n",
    "    Returns:\n",
    "    - pd.DataFrame: Pandas DataFrame where rows represent shifts and columns represent\n",
    "      employee types. The DataFrame includes the solution to the decision variables.\n",
    "      \n",
    "    \"\"\"\n",
    "    names = ['Morning', 'Afternoon', 'Night']\n",
    "    shifts = ['Regular', 'PartTime', 'Temp', 'OnCall', 'Training', 'Managers', 'Security']\n",
    "\n",
    "    index_order = list(model.x.index_set())\n",
    "    values_in_order = [model.x[i]() for i in index_order]\n",
    "\n",
    "    values_array = np.empty((0, 7))\n",
    "\n",
    "\n",
    "    for i in range(0,len(names)):\n",
    "        values_array = np.append(values_array, [values_in_order[len(shifts)*i:len(shifts)*(i+1)]], axis=0)\n",
    "\n",
    "\n",
    "    # creating the df\n",
    "    df = pd.DataFrame(values_array, index=names, columns=shifts)\n",
    "\n",
    "    Solver = SolverFactory('glpk')\n",
    "\n",
    "    return df"
   ]
  },
  {
   "cell_type": "markdown",
   "metadata": {},
   "source": [
    "Insert the model into a Pandas DataFrame"
   ]
  },
  {
   "cell_type": "code",
   "execution_count": 19,
   "metadata": {},
   "outputs": [
    {
     "data": {
      "text/html": [
       "<div>\n",
       "<style scoped>\n",
       "    .dataframe tbody tr th:only-of-type {\n",
       "        vertical-align: middle;\n",
       "    }\n",
       "\n",
       "    .dataframe tbody tr th {\n",
       "        vertical-align: top;\n",
       "    }\n",
       "\n",
       "    .dataframe thead th {\n",
       "        text-align: right;\n",
       "    }\n",
       "</style>\n",
       "<table border=\"1\" class=\"dataframe\">\n",
       "  <thead>\n",
       "    <tr style=\"text-align: right;\">\n",
       "      <th></th>\n",
       "      <th>Regular</th>\n",
       "      <th>PartTime</th>\n",
       "      <th>Temp</th>\n",
       "      <th>OnCall</th>\n",
       "      <th>Training</th>\n",
       "      <th>Managers</th>\n",
       "      <th>Security</th>\n",
       "    </tr>\n",
       "  </thead>\n",
       "  <tbody>\n",
       "    <tr>\n",
       "      <th>Morning</th>\n",
       "      <td>8.0</td>\n",
       "      <td>0.0</td>\n",
       "      <td>10.0</td>\n",
       "      <td>0.0</td>\n",
       "      <td>8.0</td>\n",
       "      <td>3.0</td>\n",
       "      <td>1.0</td>\n",
       "    </tr>\n",
       "    <tr>\n",
       "      <th>Afternoon</th>\n",
       "      <td>8.0</td>\n",
       "      <td>0.0</td>\n",
       "      <td>10.0</td>\n",
       "      <td>0.0</td>\n",
       "      <td>8.0</td>\n",
       "      <td>3.0</td>\n",
       "      <td>1.0</td>\n",
       "    </tr>\n",
       "    <tr>\n",
       "      <th>Night</th>\n",
       "      <td>3.0</td>\n",
       "      <td>10.0</td>\n",
       "      <td>10.0</td>\n",
       "      <td>0.0</td>\n",
       "      <td>3.0</td>\n",
       "      <td>3.0</td>\n",
       "      <td>1.0</td>\n",
       "    </tr>\n",
       "  </tbody>\n",
       "</table>\n",
       "</div>"
      ],
      "text/plain": [
       "           Regular  PartTime  Temp  OnCall  Training  Managers  Security\n",
       "Morning        8.0       0.0  10.0     0.0       8.0       3.0       1.0\n",
       "Afternoon      8.0       0.0  10.0     0.0       8.0       3.0       1.0\n",
       "Night          3.0      10.0  10.0     0.0       3.0       3.0       1.0"
      ]
     },
     "execution_count": 19,
     "metadata": {},
     "output_type": "execute_result"
    }
   ],
   "source": [
    "df = obtain_df_solution(model)\n",
    "df"
   ]
  },
  {
   "cell_type": "code",
   "execution_count": 37,
   "metadata": {},
   "outputs": [],
   "source": [
    "def ComputeModel(demandonday:list):\n",
    "\n",
    "    \"\"\"\n",
    "    Generates a completed Pyomo model that accommodates the given demands for each shift per day.\n",
    "\n",
    "    Parameters:\n",
    "    - demandonday (list of int): A list of integers representing the demands on all shifts per day.\n",
    "      (e.g., demandonday = [Morning demand, Afternoon demand, Midnight demand])\n",
    "\n",
    "    Returns:\n",
    "    - pyomo.environ.ConcreteModel: A completed Pyomo model that accommodates the specified demands.\n",
    "    \"\"\"\n",
    "\n",
    "    # Create a list of names for the shifts\n",
    "    names = ['Morning', 'Afternoon', 'Night']\n",
    "\n",
    "    # create the dictionary needed with a comprehension format\n",
    "    initializeworkersneeded = {str(key):value for key,value in zip(names,demandonday)}\n",
    "\n",
    "\n",
    "    model = ConcreteModel()\n",
    "\n",
    "\n",
    "    model.i = Set(initialize = names, doc = 'Shift')\n",
    "\n",
    "    # The types of different Employee\n",
    "    model.j = Set(initialize = ['Regular', 'PartTime', 'Temp', 'OnCall', 'Training', 'Managers', 'Security'], doc = 'EmployeeType')\n",
    "\n",
    "    # Total amount of workers needed on a shift -> DEMAND\n",
    "    model.total_workers_needed_onshift = Param(model.i, initialize= initializeworkersneeded) \n",
    "\n",
    "    # Total amount of different workers we have for each type (each are independent - a worker of one type cannot be of another type) -> AVAILABILITY\n",
    "    model.indiv_workers_have = Param(model.j, initialize={'Regular': 50, 'PartTime': 10, 'Temp': 10, \n",
    "                                                        'OnCall': 40, 'Training': 50, 'Managers': 10, 'Security': 5})\n",
    "\n",
    "\n",
    "    # Cost of each worker for each shift.\n",
    "    costperworkershift = {\n",
    "\n",
    "        # total 21 decision variables\n",
    "        ('Morning', 'Regular'): 30,\n",
    "        ('Morning', 'PartTime'): 20,\n",
    "        ('Morning', 'Temp'): 15,\n",
    "        ('Morning', 'OnCall'): 25,\n",
    "        ('Morning', 'Training'): 10,\n",
    "        ('Morning', 'Managers'): 55,\n",
    "        ('Morning', 'Security'): 40,\n",
    "\n",
    "\n",
    "        ('Afternoon', 'Regular'): 30,\n",
    "        ('Afternoon', 'PartTime'): 20,\n",
    "        ('Afternoon', 'Temp'): 15,\n",
    "        ('Afternoon', 'OnCall'): 25,\n",
    "        ('Afternoon', 'Training'): 10,\n",
    "        ('Afternoon', 'Managers'): 55,\n",
    "        ('Afternoon', 'Security'): 40,\n",
    "\n",
    "\n",
    "        ('Night', 'Regular'): 50,\n",
    "        ('Night', 'PartTime'): 20,\n",
    "        ('Night', 'Temp'): 15,\n",
    "        ('Night', 'OnCall'): 30,\n",
    "        ('Night', 'Training'): 10,\n",
    "        ('Night', 'Managers'): 60,\n",
    "        ('Night', 'Security'): 60,\n",
    "\n",
    "    }\n",
    "\n",
    "    # Cost function using the above costperworkershift\n",
    "    model.Cost = Param(model.i, model.j, initialize = costperworkershift, doc = 'cost of queries')\n",
    "\n",
    "\n",
    "    # Decision variables we want to solve for\n",
    "    # must be NonNegative since we have that condition (trivial constraint) and must be integers\n",
    "    # (cannot have a decimal amount of a person)\n",
    "\n",
    "    model.x = Var(model.i, model.j, doc = 'Planning', within=NonNegativeIntegers)\n",
    "\n",
    "\n",
    "    # we want to minimize the total cost in a day\n",
    "    def objective_rule(model):\n",
    "        return sum(model.Cost[i,j]*model.x[i,j] for i in model.i for j in model.j)\n",
    "\n",
    "    model.objective = Objective(rule = objective_rule, sense = minimize, doc = 'cost per day')\n",
    "\n",
    "\n",
    "    def demand(model, i):\n",
    "\n",
    "        # i = shift, j = employee type \n",
    "        # we are adding all the number of employees to be the amount needed on that shift\n",
    "        return sum(model.x[i,j] for j in model.j)>=model.total_workers_needed_onshift[i]\n",
    "\n",
    "    model.demand = Constraint(model.i, rule = demand, doc= 'employee demand during shift')\n",
    "\n",
    "\n",
    "    def requisites_rule(model, i, j):\n",
    "        \n",
    "        # Each element in column i for employee type j should be less than or equal to the \n",
    "        # available amount.\n",
    "        return model.x[i, j] <= model.indiv_workers_have[j]\n",
    "\n",
    "    model.requisites_constraint = Constraint(model.i, model.j, rule=requisites_rule, doc = 'Available amount of employees for type')\n",
    "\n",
    "    # If we choose a training, we must also have a regular to accompany and train them (1 regular per training)\n",
    "\n",
    "    def training_regular(model, i):\n",
    "\n",
    "        return model.x[i, 'Training'] <= model.x[i, 'Regular']\n",
    "\n",
    "    model.train_reg = Constraint(model.i, rule = training_regular, doc = 'Each training accompanied by a Regular')\n",
    "\n",
    "    # We need at least 3 managers at all shifts:\n",
    "    def managers_3(model, i):\n",
    "        return model.x[i, 'Managers'] >= 3\n",
    "\n",
    "    model.managers_3 = Constraint(model.i, rule = managers_3, doc = 'Must have at least 3 managers')\n",
    "\n",
    "    # We need at least 1 Security per shift\n",
    "    def security(model, i):\n",
    "\n",
    "        # i = shift, j = employee type\n",
    "        return model.x[i, 'Security'] >= 1\n",
    "\n",
    "    model.security = Constraint(model.i, rule = security, doc = 'Must have at least 1 Security per shift')\n",
    "\n",
    "    Results = Solver.solve(model)\n",
    "    \n",
    "    obj = model.objective()\n",
    "\n",
    "    \n",
    "    return model,obj"
   ]
  },
  {
   "cell_type": "markdown",
   "metadata": {},
   "source": [
    "The following code runs a simulation for an entire week in order to compute the model and objective value of each of the days (7 days). That is to say that each day of the week has its own demand (**'demandonday'** list) which computes its own model and cost of the day.\n",
    "\n",
    "Therefore, the following inserts the **demand** values for each shift in a single day of the week. Then it computes the **model** and stores the results in a dataframe using the **obtain_df_solution** function previously created."
   ]
  },
  {
   "cell_type": "code",
   "execution_count": 21,
   "metadata": {},
   "outputs": [],
   "source": [
    "# All the data on Monday\n",
    "demandMonday  = [30,30,30]\n",
    "modelMonday,objectiveMonday = ComputeModel(demandMonday)\n",
    "dfMonday = obtain_df_solution(modelMonday)\n",
    "\n",
    "# All the data on Tuesday\n",
    "demandTuesday= [30,35,30]\n",
    "modelTuesday, objectiveTuesday  = ComputeModel(demandTuesday)\n",
    "dfTuesday= obtain_df_solution(modelTuesday)\n",
    "\n",
    "# All the data on Wednesday\n",
    "demandWednesday= [35,40,45]\n",
    "modelWedn, objectiveWedn  = ComputeModel(demandWednesday)\n",
    "dfWedn= obtain_df_solution(modelWedn)\n",
    "\n",
    "# All the data on Thursday\n",
    "demandThur= [35,40,40]\n",
    "modelThur, objectiveThur  = ComputeModel(demandThur)\n",
    "dfThur= obtain_df_solution(modelThur)\n",
    "\n",
    "# All the data on Friday\n",
    "demandFri= [40,50,55]\n",
    "modelFri, objectiveFri  = ComputeModel(demandFri)\n",
    "dfFri= obtain_df_solution(modelFri)\n",
    "\n",
    "# All the data on Saturday\n",
    "demandSat= [50,60,60]\n",
    "modelSat, objectiveSat  = ComputeModel(demandSat)\n",
    "dfSat= obtain_df_solution(modelSat)\n",
    "\n",
    "# All the data on Sunday\n",
    "demandSun= [50,60,60]\n",
    "modelSun, objectiveSun  = ComputeModel(demandSun)\n",
    "dfSun= obtain_df_solution(modelSun)\n",
    "\n"
   ]
  },
  {
   "cell_type": "markdown",
   "metadata": {},
   "source": [
    "### Visualization"
   ]
  },
  {
   "cell_type": "code",
   "execution_count": 22,
   "metadata": {},
   "outputs": [
    {
     "data": {
      "text/html": [
       "<script src=\"require.js\"></script>\n"
      ],
      "text/plain": [
       "<IPython.core.display.HTML object>"
      ]
     },
     "metadata": {},
     "output_type": "display_data"
    }
   ],
   "source": [
    "%%HTML\n",
    "<script src=\"require.js\"></script>"
   ]
  },
  {
   "cell_type": "code",
   "execution_count": 23,
   "metadata": {},
   "outputs": [
    {
     "data": {
      "application/vnd.plotly.v1+json": {
       "config": {
        "plotlyServerURL": "https://plot.ly"
       },
       "data": [
        {
         "alignmentgroup": "True",
         "hovertemplate": "Day=%{x}<br>Cost=%{text}<extra></extra>",
         "legendgroup": "",
         "marker": {
          "color": "#636efa",
          "pattern": {
           "shape": ""
          }
         },
         "name": "",
         "offsetgroup": "",
         "orientation": "v",
         "showlegend": false,
         "text": [
          2120,
          2220,
          2870,
          2720,
          3470,
          4020,
          4020
         ],
         "textposition": "outside",
         "texttemplate": "%{text:.2s}",
         "type": "bar",
         "x": [
          "Monday",
          "Tuesday",
          "Wednesday",
          "Thursday",
          "Friday",
          "Saturday",
          "Sunday"
         ],
         "xaxis": "x",
         "y": [
          2120,
          2220,
          2870,
          2720,
          3470,
          4020,
          4020
         ],
         "yaxis": "y"
        }
       ],
       "layout": {
        "barmode": "relative",
        "legend": {
         "tracegroupgap": 0
        },
        "template": {
         "data": {
          "bar": [
           {
            "error_x": {
             "color": "#2a3f5f"
            },
            "error_y": {
             "color": "#2a3f5f"
            },
            "marker": {
             "line": {
              "color": "#E5ECF6",
              "width": 0.5
             },
             "pattern": {
              "fillmode": "overlay",
              "size": 10,
              "solidity": 0.2
             }
            },
            "type": "bar"
           }
          ],
          "barpolar": [
           {
            "marker": {
             "line": {
              "color": "#E5ECF6",
              "width": 0.5
             },
             "pattern": {
              "fillmode": "overlay",
              "size": 10,
              "solidity": 0.2
             }
            },
            "type": "barpolar"
           }
          ],
          "carpet": [
           {
            "aaxis": {
             "endlinecolor": "#2a3f5f",
             "gridcolor": "white",
             "linecolor": "white",
             "minorgridcolor": "white",
             "startlinecolor": "#2a3f5f"
            },
            "baxis": {
             "endlinecolor": "#2a3f5f",
             "gridcolor": "white",
             "linecolor": "white",
             "minorgridcolor": "white",
             "startlinecolor": "#2a3f5f"
            },
            "type": "carpet"
           }
          ],
          "choropleth": [
           {
            "colorbar": {
             "outlinewidth": 0,
             "ticks": ""
            },
            "type": "choropleth"
           }
          ],
          "contour": [
           {
            "colorbar": {
             "outlinewidth": 0,
             "ticks": ""
            },
            "colorscale": [
             [
              0,
              "#0d0887"
             ],
             [
              0.1111111111111111,
              "#46039f"
             ],
             [
              0.2222222222222222,
              "#7201a8"
             ],
             [
              0.3333333333333333,
              "#9c179e"
             ],
             [
              0.4444444444444444,
              "#bd3786"
             ],
             [
              0.5555555555555556,
              "#d8576b"
             ],
             [
              0.6666666666666666,
              "#ed7953"
             ],
             [
              0.7777777777777778,
              "#fb9f3a"
             ],
             [
              0.8888888888888888,
              "#fdca26"
             ],
             [
              1,
              "#f0f921"
             ]
            ],
            "type": "contour"
           }
          ],
          "contourcarpet": [
           {
            "colorbar": {
             "outlinewidth": 0,
             "ticks": ""
            },
            "type": "contourcarpet"
           }
          ],
          "heatmap": [
           {
            "colorbar": {
             "outlinewidth": 0,
             "ticks": ""
            },
            "colorscale": [
             [
              0,
              "#0d0887"
             ],
             [
              0.1111111111111111,
              "#46039f"
             ],
             [
              0.2222222222222222,
              "#7201a8"
             ],
             [
              0.3333333333333333,
              "#9c179e"
             ],
             [
              0.4444444444444444,
              "#bd3786"
             ],
             [
              0.5555555555555556,
              "#d8576b"
             ],
             [
              0.6666666666666666,
              "#ed7953"
             ],
             [
              0.7777777777777778,
              "#fb9f3a"
             ],
             [
              0.8888888888888888,
              "#fdca26"
             ],
             [
              1,
              "#f0f921"
             ]
            ],
            "type": "heatmap"
           }
          ],
          "heatmapgl": [
           {
            "colorbar": {
             "outlinewidth": 0,
             "ticks": ""
            },
            "colorscale": [
             [
              0,
              "#0d0887"
             ],
             [
              0.1111111111111111,
              "#46039f"
             ],
             [
              0.2222222222222222,
              "#7201a8"
             ],
             [
              0.3333333333333333,
              "#9c179e"
             ],
             [
              0.4444444444444444,
              "#bd3786"
             ],
             [
              0.5555555555555556,
              "#d8576b"
             ],
             [
              0.6666666666666666,
              "#ed7953"
             ],
             [
              0.7777777777777778,
              "#fb9f3a"
             ],
             [
              0.8888888888888888,
              "#fdca26"
             ],
             [
              1,
              "#f0f921"
             ]
            ],
            "type": "heatmapgl"
           }
          ],
          "histogram": [
           {
            "marker": {
             "pattern": {
              "fillmode": "overlay",
              "size": 10,
              "solidity": 0.2
             }
            },
            "type": "histogram"
           }
          ],
          "histogram2d": [
           {
            "colorbar": {
             "outlinewidth": 0,
             "ticks": ""
            },
            "colorscale": [
             [
              0,
              "#0d0887"
             ],
             [
              0.1111111111111111,
              "#46039f"
             ],
             [
              0.2222222222222222,
              "#7201a8"
             ],
             [
              0.3333333333333333,
              "#9c179e"
             ],
             [
              0.4444444444444444,
              "#bd3786"
             ],
             [
              0.5555555555555556,
              "#d8576b"
             ],
             [
              0.6666666666666666,
              "#ed7953"
             ],
             [
              0.7777777777777778,
              "#fb9f3a"
             ],
             [
              0.8888888888888888,
              "#fdca26"
             ],
             [
              1,
              "#f0f921"
             ]
            ],
            "type": "histogram2d"
           }
          ],
          "histogram2dcontour": [
           {
            "colorbar": {
             "outlinewidth": 0,
             "ticks": ""
            },
            "colorscale": [
             [
              0,
              "#0d0887"
             ],
             [
              0.1111111111111111,
              "#46039f"
             ],
             [
              0.2222222222222222,
              "#7201a8"
             ],
             [
              0.3333333333333333,
              "#9c179e"
             ],
             [
              0.4444444444444444,
              "#bd3786"
             ],
             [
              0.5555555555555556,
              "#d8576b"
             ],
             [
              0.6666666666666666,
              "#ed7953"
             ],
             [
              0.7777777777777778,
              "#fb9f3a"
             ],
             [
              0.8888888888888888,
              "#fdca26"
             ],
             [
              1,
              "#f0f921"
             ]
            ],
            "type": "histogram2dcontour"
           }
          ],
          "mesh3d": [
           {
            "colorbar": {
             "outlinewidth": 0,
             "ticks": ""
            },
            "type": "mesh3d"
           }
          ],
          "parcoords": [
           {
            "line": {
             "colorbar": {
              "outlinewidth": 0,
              "ticks": ""
             }
            },
            "type": "parcoords"
           }
          ],
          "pie": [
           {
            "automargin": true,
            "type": "pie"
           }
          ],
          "scatter": [
           {
            "marker": {
             "colorbar": {
              "outlinewidth": 0,
              "ticks": ""
             }
            },
            "type": "scatter"
           }
          ],
          "scatter3d": [
           {
            "line": {
             "colorbar": {
              "outlinewidth": 0,
              "ticks": ""
             }
            },
            "marker": {
             "colorbar": {
              "outlinewidth": 0,
              "ticks": ""
             }
            },
            "type": "scatter3d"
           }
          ],
          "scattercarpet": [
           {
            "marker": {
             "colorbar": {
              "outlinewidth": 0,
              "ticks": ""
             }
            },
            "type": "scattercarpet"
           }
          ],
          "scattergeo": [
           {
            "marker": {
             "colorbar": {
              "outlinewidth": 0,
              "ticks": ""
             }
            },
            "type": "scattergeo"
           }
          ],
          "scattergl": [
           {
            "marker": {
             "colorbar": {
              "outlinewidth": 0,
              "ticks": ""
             }
            },
            "type": "scattergl"
           }
          ],
          "scattermapbox": [
           {
            "marker": {
             "colorbar": {
              "outlinewidth": 0,
              "ticks": ""
             }
            },
            "type": "scattermapbox"
           }
          ],
          "scatterpolar": [
           {
            "marker": {
             "colorbar": {
              "outlinewidth": 0,
              "ticks": ""
             }
            },
            "type": "scatterpolar"
           }
          ],
          "scatterpolargl": [
           {
            "marker": {
             "colorbar": {
              "outlinewidth": 0,
              "ticks": ""
             }
            },
            "type": "scatterpolargl"
           }
          ],
          "scatterternary": [
           {
            "marker": {
             "colorbar": {
              "outlinewidth": 0,
              "ticks": ""
             }
            },
            "type": "scatterternary"
           }
          ],
          "surface": [
           {
            "colorbar": {
             "outlinewidth": 0,
             "ticks": ""
            },
            "colorscale": [
             [
              0,
              "#0d0887"
             ],
             [
              0.1111111111111111,
              "#46039f"
             ],
             [
              0.2222222222222222,
              "#7201a8"
             ],
             [
              0.3333333333333333,
              "#9c179e"
             ],
             [
              0.4444444444444444,
              "#bd3786"
             ],
             [
              0.5555555555555556,
              "#d8576b"
             ],
             [
              0.6666666666666666,
              "#ed7953"
             ],
             [
              0.7777777777777778,
              "#fb9f3a"
             ],
             [
              0.8888888888888888,
              "#fdca26"
             ],
             [
              1,
              "#f0f921"
             ]
            ],
            "type": "surface"
           }
          ],
          "table": [
           {
            "cells": {
             "fill": {
              "color": "#EBF0F8"
             },
             "line": {
              "color": "white"
             }
            },
            "header": {
             "fill": {
              "color": "#C8D4E3"
             },
             "line": {
              "color": "white"
             }
            },
            "type": "table"
           }
          ]
         },
         "layout": {
          "annotationdefaults": {
           "arrowcolor": "#2a3f5f",
           "arrowhead": 0,
           "arrowwidth": 1
          },
          "autotypenumbers": "strict",
          "coloraxis": {
           "colorbar": {
            "outlinewidth": 0,
            "ticks": ""
           }
          },
          "colorscale": {
           "diverging": [
            [
             0,
             "#8e0152"
            ],
            [
             0.1,
             "#c51b7d"
            ],
            [
             0.2,
             "#de77ae"
            ],
            [
             0.3,
             "#f1b6da"
            ],
            [
             0.4,
             "#fde0ef"
            ],
            [
             0.5,
             "#f7f7f7"
            ],
            [
             0.6,
             "#e6f5d0"
            ],
            [
             0.7,
             "#b8e186"
            ],
            [
             0.8,
             "#7fbc41"
            ],
            [
             0.9,
             "#4d9221"
            ],
            [
             1,
             "#276419"
            ]
           ],
           "sequential": [
            [
             0,
             "#0d0887"
            ],
            [
             0.1111111111111111,
             "#46039f"
            ],
            [
             0.2222222222222222,
             "#7201a8"
            ],
            [
             0.3333333333333333,
             "#9c179e"
            ],
            [
             0.4444444444444444,
             "#bd3786"
            ],
            [
             0.5555555555555556,
             "#d8576b"
            ],
            [
             0.6666666666666666,
             "#ed7953"
            ],
            [
             0.7777777777777778,
             "#fb9f3a"
            ],
            [
             0.8888888888888888,
             "#fdca26"
            ],
            [
             1,
             "#f0f921"
            ]
           ],
           "sequentialminus": [
            [
             0,
             "#0d0887"
            ],
            [
             0.1111111111111111,
             "#46039f"
            ],
            [
             0.2222222222222222,
             "#7201a8"
            ],
            [
             0.3333333333333333,
             "#9c179e"
            ],
            [
             0.4444444444444444,
             "#bd3786"
            ],
            [
             0.5555555555555556,
             "#d8576b"
            ],
            [
             0.6666666666666666,
             "#ed7953"
            ],
            [
             0.7777777777777778,
             "#fb9f3a"
            ],
            [
             0.8888888888888888,
             "#fdca26"
            ],
            [
             1,
             "#f0f921"
            ]
           ]
          },
          "colorway": [
           "#636efa",
           "#EF553B",
           "#00cc96",
           "#ab63fa",
           "#FFA15A",
           "#19d3f3",
           "#FF6692",
           "#B6E880",
           "#FF97FF",
           "#FECB52"
          ],
          "font": {
           "color": "#2a3f5f"
          },
          "geo": {
           "bgcolor": "white",
           "lakecolor": "white",
           "landcolor": "#E5ECF6",
           "showlakes": true,
           "showland": true,
           "subunitcolor": "white"
          },
          "hoverlabel": {
           "align": "left"
          },
          "hovermode": "closest",
          "mapbox": {
           "style": "light"
          },
          "paper_bgcolor": "white",
          "plot_bgcolor": "#E5ECF6",
          "polar": {
           "angularaxis": {
            "gridcolor": "white",
            "linecolor": "white",
            "ticks": ""
           },
           "bgcolor": "#E5ECF6",
           "radialaxis": {
            "gridcolor": "white",
            "linecolor": "white",
            "ticks": ""
           }
          },
          "scene": {
           "xaxis": {
            "backgroundcolor": "#E5ECF6",
            "gridcolor": "white",
            "gridwidth": 2,
            "linecolor": "white",
            "showbackground": true,
            "ticks": "",
            "zerolinecolor": "white"
           },
           "yaxis": {
            "backgroundcolor": "#E5ECF6",
            "gridcolor": "white",
            "gridwidth": 2,
            "linecolor": "white",
            "showbackground": true,
            "ticks": "",
            "zerolinecolor": "white"
           },
           "zaxis": {
            "backgroundcolor": "#E5ECF6",
            "gridcolor": "white",
            "gridwidth": 2,
            "linecolor": "white",
            "showbackground": true,
            "ticks": "",
            "zerolinecolor": "white"
           }
          },
          "shapedefaults": {
           "line": {
            "color": "#2a3f5f"
           }
          },
          "ternary": {
           "aaxis": {
            "gridcolor": "white",
            "linecolor": "white",
            "ticks": ""
           },
           "baxis": {
            "gridcolor": "white",
            "linecolor": "white",
            "ticks": ""
           },
           "bgcolor": "#E5ECF6",
           "caxis": {
            "gridcolor": "white",
            "linecolor": "white",
            "ticks": ""
           }
          },
          "title": {
           "x": 0.05
          },
          "xaxis": {
           "automargin": true,
           "gridcolor": "white",
           "linecolor": "white",
           "ticks": "",
           "title": {
            "standoff": 15
           },
           "zerolinecolor": "white",
           "zerolinewidth": 2
          },
          "yaxis": {
           "automargin": true,
           "gridcolor": "white",
           "linecolor": "white",
           "ticks": "",
           "title": {
            "standoff": 15
           },
           "zerolinecolor": "white",
           "zerolinewidth": 2
          }
         }
        },
        "title": {
         "text": "Cost for Each Day of the Week"
        },
        "xaxis": {
         "anchor": "y",
         "domain": [
          0,
          1
         ],
         "title": {
          "text": "Day of the Week"
         }
        },
        "yaxis": {
         "anchor": "x",
         "domain": [
          0,
          1
         ],
         "title": {
          "text": "Objective Value (Cost)"
         }
        }
       }
      }
     },
     "metadata": {},
     "output_type": "display_data"
    }
   ],
   "source": [
    "import plotly.express as px\n",
    "import matplotlib.pyplot as plt\n",
    "\n",
    "\n",
    "# Create a list of dataframes and objectives(cost function)\n",
    "dfs = [dfMonday, dfTuesday, dfWedn, dfThur, dfFri, dfSat, dfSun]\n",
    "objectives = [objectiveMonday, objectiveTuesday, objectiveWedn, objectiveThur, objectiveFri, objectiveSat, objectiveSun]\n",
    "days = ['Monday', 'Tuesday', 'Wednesday', 'Thursday', 'Friday', 'Saturday', 'Sunday']\n",
    "\n",
    "# Create a DataFrame for cost data\n",
    "cost_df = pd.DataFrame({'Day': days, 'Cost': objectives})\n",
    "\n",
    "# Use plotyl for an interactive plot\n",
    "fig = px.bar(cost_df, x='Day', y='Cost', text='Cost', title='Cost for Each Day of the Week')\n",
    "fig.update_traces(texttemplate='%{text:.2s}', textposition='outside')\n",
    "fig.update_layout(yaxis_title='Objective Value (Cost)', xaxis_title='Day of the Week')\n",
    "\n",
    "fig.show()\n",
    "\n"
   ]
  },
  {
   "cell_type": "markdown",
   "metadata": {},
   "source": [
    "As we can see in the above plot, **cost** of the service increases on Friday and on the weekend which is due to a **higher demand** on these days when compared to weekdays. In general, there is an obvious positive linear relationship between both the Cost and the demand for each day. This means that as the demand increases (we need more employees) then the cost will also increase."
   ]
  },
  {
   "cell_type": "markdown",
   "metadata": {},
   "source": [
    "## Part C: Sensitivities associated with each constraint, and interpretion of the obtained values."
   ]
  },
  {
   "cell_type": "markdown",
   "metadata": {},
   "source": [
    "**Because the model.dual() function does not work for our model (it produced an error), then the sensitivity needs to be calculated separately.**\n",
    "\n",
    "The sensitivity is done in general to find how much the objective function changes when changing the parameter it depends on by one unit. Of course, there are three parameters in the model which might also be used for calculating the sensitivity. But in this case, the only parameter that can change is the demand for a certain day and shift. This is because the other ones have been defined to be constant.\n",
    "\n",
    "The model.dual() function would run a simulation on the already created model changing its parameter by one unit and examining the change in the objective function for multiple iterations. Then obtain the average. But in this case, the model.dual() function cannot do so since there are three parameters, where each parameter contains a list of values, and therefore cannot do a sensitivity analysis.\n",
    "\n",
    "This is done the following way:\n",
    "\n",
    "**1. Define a new column in the data frame of a day the cost per shift that was obtained.**\n",
    "\n",
    "**2. Calculate the sensitivity for each shift on day of the week using the following formula:**\n",
    "\n",
    "$$\\text{Sensitivity}_{\\text{day 2 - day 1}} = \\dfrac{1}{N} \\;\\sum^{N=3}_{\\text{shift} = 1} \\left( \\dfrac{\\Delta \\;(\\text{Cost})_{\\text{shift}}}{\\Delta (\\text{Demand})_{\\text{shift}}} \\right)$$\n",
    "\n",
    "    Where we take the average of the sensitivities per shift to get the average sensitivity in a day.\n",
    "\n",
    "The sensitivity per shift would be the difference between demands of a shift for two days and the same for the cost. \n",
    "\n",
    "**For example:**\n",
    "\n",
    "- Thursday demand = [Morning =35, Afternoon = 40, Night = 40]\n",
    "- Friday demand = [Morning = 40, Afternoon = 50, Night = 55]\n",
    "\n",
    "**Sensitivity between Tuesday and Monday (done for just the Morning shift):**\n",
    "\n",
    "\n",
    "<br>\n",
    "<br>\n",
    "Calculating the cost comes from the solution to the model (decision variables):\n",
    "\n",
    "$$\\Delta \\text{Cost}_{\\text{Morning}} = \\text{Cost}_{\\text{Tuesday, Morning}} - \\text{Cost}_{\\text{Monday, Morning}} = 100$$\n",
    "\n",
    "\n",
    "<br>\n",
    "<br>\n",
    "The demand is predefined:\n",
    "\n",
    "$$\\Delta \\text{Demand}_{\\text{Morning}} =   \\text{Demand}_{\\text{(Tuesday, Morning)}} - \\text{Demand}_{\\text{(Monday, Morning)}} = 5$$\n",
    "\n",
    "<br>\n",
    "\n",
    "Calculating sensitivity:\n",
    "\n",
    "$$\\text{Sensitivity}_{\\text{Morning}} = \\dfrac{100}{5} = 20$$\n",
    "<br>\n",
    "\n",
    "    Then repeat for the rest of the shifts and obtain the average between all.\n",
    "\n",
    "**3. Take the average of all sensitivities for all days.**\n",
    "\n",
    "- The above sensitivity calculations will be done for the different data used for the demand on each shift, which was already created before when doing an analysis on the cost difference per day of the week. Therefore, seeing on average how much the cost changes when we change the demand parameter will give the general sensitivity. \n",
    "\n",
    "We are only calculating the sensitivity with respect to the only parameter that changes (the demand per shift on a certain day)."
   ]
  },
  {
   "cell_type": "markdown",
   "metadata": {},
   "source": [
    "Firstly we need to define a function that can systematically add a total cost of the shift to the dataframe that was created before for each day. We also need to define the data used (cost of each employee type for each shift)."
   ]
  },
  {
   "cell_type": "code",
   "execution_count": 33,
   "metadata": {},
   "outputs": [],
   "source": [
    "\n",
    "# dataframe friendly dictionary for cost per shift\n",
    "data = {'Regular': [30, 30, 50],\n",
    "        'PartTime': [20, 20, 20],\n",
    "        'Temp': [15, 15, 15],\n",
    "        'OnCall': [25, 25, 30],\n",
    "        'Training': [10, 10, 10],\n",
    "        'Managers': [55, 55, 60],\n",
    "        'Security': [40, 40, 60]\n",
    "        }\n",
    "\n",
    "def addCostPerShift(modeldf: pd.DataFrame, data:dict):\n",
    "\n",
    "    \"\"\"\n",
    "    Adds a new column to the Pandas DataFrame 'modeldf' with the total cost per each shift.\n",
    "\n",
    "    Parameters:\n",
    "    - modeldf (pd.DataFrame): Pandas DataFrame containing the solution to the model (the decision variables).\n",
    "    - data (dict): Dictionary containing the data of the cost per shift.\n",
    "\n",
    "    This function modifies 'modeldf' in place and does not return anything.\n",
    "    \"\"\"\n",
    "    # if the column has already been added. Do not add it again\n",
    "    if 'Total Shift Cost' in modeldf:\n",
    "        return\n",
    "    # Add the column if it does not exists\n",
    "    else:\n",
    "        \n",
    "        # new data frame with the values for the cost\n",
    "        df = pd.DataFrame(data)\n",
    "        df.set_index(pd.Index(['Morning', 'Afternoon', 'Night']), inplace=True)\n",
    "        listofsums = []\n",
    "\n",
    "        # Calculating the total cost.\n",
    "        for i in range(0,len(modeldf)):\n",
    "            mysum=0\n",
    "            for j in range(0,len(modeldf.columns)):\n",
    "                mysum += modeldf.iloc[i,j]*df.iloc[i,j]\n",
    "            listofsums.append(mysum)\n",
    "\n",
    "        modeldf['Total Shift Cost'] = listofsums\n",
    "\n",
    "        # returns nothing just adds a new column to the data frame\n",
    "        return"
   ]
  },
  {
   "cell_type": "code",
   "execution_count": 34,
   "metadata": {},
   "outputs": [
    {
     "data": {
      "text/html": [
       "<div>\n",
       "<style scoped>\n",
       "    .dataframe tbody tr th:only-of-type {\n",
       "        vertical-align: middle;\n",
       "    }\n",
       "\n",
       "    .dataframe tbody tr th {\n",
       "        vertical-align: top;\n",
       "    }\n",
       "\n",
       "    .dataframe thead th {\n",
       "        text-align: right;\n",
       "    }\n",
       "</style>\n",
       "<table border=\"1\" class=\"dataframe\">\n",
       "  <thead>\n",
       "    <tr style=\"text-align: right;\">\n",
       "      <th></th>\n",
       "      <th>Regular</th>\n",
       "      <th>PartTime</th>\n",
       "      <th>Temp</th>\n",
       "      <th>OnCall</th>\n",
       "      <th>Training</th>\n",
       "      <th>Managers</th>\n",
       "      <th>Security</th>\n",
       "      <th>Total Shift Cost</th>\n",
       "    </tr>\n",
       "  </thead>\n",
       "  <tbody>\n",
       "    <tr>\n",
       "      <th>Morning</th>\n",
       "      <td>8.0</td>\n",
       "      <td>0.0</td>\n",
       "      <td>10.0</td>\n",
       "      <td>0.0</td>\n",
       "      <td>8.0</td>\n",
       "      <td>3.0</td>\n",
       "      <td>1.0</td>\n",
       "      <td>675.0</td>\n",
       "    </tr>\n",
       "    <tr>\n",
       "      <th>Afternoon</th>\n",
       "      <td>10.0</td>\n",
       "      <td>1.0</td>\n",
       "      <td>10.0</td>\n",
       "      <td>0.0</td>\n",
       "      <td>10.0</td>\n",
       "      <td>3.0</td>\n",
       "      <td>1.0</td>\n",
       "      <td>775.0</td>\n",
       "    </tr>\n",
       "    <tr>\n",
       "      <th>Night</th>\n",
       "      <td>3.0</td>\n",
       "      <td>10.0</td>\n",
       "      <td>10.0</td>\n",
       "      <td>0.0</td>\n",
       "      <td>3.0</td>\n",
       "      <td>3.0</td>\n",
       "      <td>1.0</td>\n",
       "      <td>770.0</td>\n",
       "    </tr>\n",
       "  </tbody>\n",
       "</table>\n",
       "</div>"
      ],
      "text/plain": [
       "           Regular  PartTime  Temp  OnCall  Training  Managers  Security  \\\n",
       "Morning        8.0       0.0  10.0     0.0       8.0       3.0       1.0   \n",
       "Afternoon     10.0       1.0  10.0     0.0      10.0       3.0       1.0   \n",
       "Night          3.0      10.0  10.0     0.0       3.0       3.0       1.0   \n",
       "\n",
       "           Total Shift Cost  \n",
       "Morning               675.0  \n",
       "Afternoon             775.0  \n",
       "Night                 770.0  "
      ]
     },
     "execution_count": 34,
     "metadata": {},
     "output_type": "execute_result"
    }
   ],
   "source": [
    "# an example for the tuesday data\n",
    "addCostPerShift(dfTuesday,data)\n",
    "dfTuesday"
   ]
  },
  {
   "cell_type": "markdown",
   "metadata": {},
   "source": [
    "##### Part 1\n",
    "\n",
    "Adding the new column of total cost per shift type to all days defined (Monday $\\rightarrow$ Sunday).\n"
   ]
  },
  {
   "cell_type": "code",
   "execution_count": 35,
   "metadata": {},
   "outputs": [],
   "source": [
    "all_demands = [demandMonday, demandTuesday, demandWednesday, demandThur, demandFri, demandSat, demandSun]\n",
    "\n",
    "all_df = [dfMonday, dfTuesday, dfWedn, dfThur, dfFri, dfSat, dfSun]\n",
    "\n",
    "# adding the new column, total cost per shift type to the dataframe.\n",
    "for i in range(0,len(all_df)):\n",
    "    addCostPerShift(all_df[i],data)"
   ]
  },
  {
   "cell_type": "markdown",
   "metadata": {},
   "source": [
    "##### Part 2\n",
    "\n",
    "Calculating Sensitivity using the equation created."
   ]
  },
  {
   "cell_type": "code",
   "execution_count": 39,
   "metadata": {},
   "outputs": [],
   "source": [
    "def sensitivities(demand_i:list, df_i:pd.DataFrame, demand_f:list, df_f:pd.DataFrame):\n",
    "\n",
    "    \"\"\"\n",
    "    Calculates the relative sensitivity between two scenarios.\n",
    "\n",
    "    Parameters:\n",
    "    - demand_i (list of int): Initial demand on a day, including specific demands for each shift.\n",
    "    - df_i (pd.DataFrame): Pandas DataFrame with the cost per shift column for the initial scenario.\n",
    "    - demand_f (list of int): Final demand on a day, including specific demands for each shift.\n",
    "    - df_f (pd.DataFrame): Pandas DataFrame with the cost per shift column for the final scenario.\n",
    "\n",
    "    Returns:\n",
    "    - float: The relative sensitivity between the two scenarios.\n",
    "    \"\"\"\n",
    "\n",
    "    # demand_i is the initial day to compare it to\n",
    "    # costshift_i is the initial day cost per shift column in a list\n",
    "    # meanwhile subscript f is for final\n",
    "\n",
    "    costshift_f = df_f['Total Shift Cost'].tolist()\n",
    "    costshift_i = df_i['Total Shift Cost'].tolist()\n",
    "\n",
    "    \n",
    "    delta_demand = np.array(demand_f)-np.array(demand_i)\n",
    "\n",
    "    delta_cost = np.array(costshift_f) - np.array(costshift_i)\n",
    "\n",
    "    # to make sure that if the numerator or denominator is 0 then just return 0\n",
    "    # division of 0 would give a Nan\n",
    "    sensitivity_day = np.mean(delta_cost/delta_demand)\n",
    "\n",
    "    if math.isnan(sensitivity_day):\n",
    "        return 0\n",
    "    else:\n",
    "        return sensitivity_day"
   ]
  },
  {
   "cell_type": "markdown",
   "metadata": {},
   "source": [
    "In the following code, we encounter a RuntimeWarning. This is because it attempts to divide by zero. \n",
    "\n",
    "In the above function, the division of zero occurs and as a result the average sensitivity for the day become NaN. Therefore, if the value is NaN then an if statement just returns 0 rather than the NaN."
   ]
  },
  {
   "cell_type": "code",
   "execution_count": 41,
   "metadata": {},
   "outputs": [],
   "source": [
    "all_sens = np.zeros(len(all_df))\n",
    "\n",
    "for i in range(1, len(all_df)):\n",
    "    with np.errstate(divide='ignore', invalid='ignore'):\n",
    "        all_sens[i-1] = sensitivities(all_demands[i-1], all_df[i-1], all_demands[i], all_df[i])"
   ]
  },
  {
   "cell_type": "markdown",
   "metadata": {},
   "source": [
    "##### Part 3\n",
    "\n",
    "    Taking the average of all sensitivities for each day of the week to get a final sensitivity."
   ]
  },
  {
   "cell_type": "markdown",
   "metadata": {},
   "source": [
    "Because we have days of the week where on average there are no differences (Monday and Tuesday have the same demand) then we do not want to include it in the sensitivity calculation."
   ]
  },
  {
   "cell_type": "code",
   "execution_count": 42,
   "metadata": {},
   "outputs": [
    {
     "data": {
      "text/plain": [
       "array([ 0.        , 23.33333333,  0.        , 23.33333333, 23.33333333,\n",
       "        0.        ,  0.        ])"
      ]
     },
     "execution_count": 42,
     "metadata": {},
     "output_type": "execute_result"
    }
   ],
   "source": [
    "# Showing all the individual sensitivities for each day\n",
    "all_sens"
   ]
  },
  {
   "cell_type": "code",
   "execution_count": 43,
   "metadata": {},
   "outputs": [],
   "source": [
    "# Making sure that if the difference between 2 days was 0\n",
    "# then we do not need to use it for the calculation of the sensitivity.\n",
    "N = 0\n",
    "for i in range(0,len(all_sens)):\n",
    "    if all_sens[i] != 0:\n",
    "        N+=1\n",
    "    else:\n",
    "        continue\n",
    "    \n",
    "# if statement that shows if N is 0 then it does not divide by N and only shows the\n",
    "# sum of all values.\n",
    "if N != 0 : sensitivity=sum(all_sens)/N \n",
    "else: sensitivity = sum(all_sens) "
   ]
  },
  {
   "cell_type": "code",
   "execution_count": 31,
   "metadata": {},
   "outputs": [
    {
     "name": "stdout",
     "output_type": "stream",
     "text": [
      "The average sensitivity found was: 23.33\n"
     ]
    }
   ],
   "source": [
    "print(\"The average sensitivity found was: {:.2f}\".format(sensitivity))"
   ]
  },
  {
   "cell_type": "markdown",
   "metadata": {},
   "source": [
    "The above value of sensitivity resulted in 23.33. This means that as we increase a unit of average demand for the day (increase on average each shift type by 1 unit or employee needed) then the cost also will increase by 23.33. "
   ]
  },
  {
   "cell_type": "markdown",
   "metadata": {},
   "source": [
    "### Part D: Binary Variables\n",
    "\n",
    "Modify the problem in (a) to impose some logical and conditional constraints that require the use of binary or integer variables. The more integer variables or constraints, the better. Implement and solve this new model and interpret the results."
   ]
  },
  {
   "cell_type": "markdown",
   "metadata": {},
   "source": [
    "#### STATEMENT"
   ]
  },
  {
   "cell_type": "markdown",
   "metadata": {},
   "source": [
    "In this new case, we have the profit per employee type and how much does the employee cost to the company in a given day of the week. We aim to maximize the profit and know which employee type is the best option according to our economic capacity (constraints) in a specific day of the week."
   ]
  },
  {
   "cell_type": "markdown",
   "metadata": {},
   "source": [
    "| $_\\text{Employee Type}$  $^{\\text{Day of week}}$ | Monday | Tuesday | Wednesday | Thursday | Friday | Saturday | Sunday | Profit |\n",
    "|---------------|---------|-----------|-------|-----|-----|-----|-----|-----|\n",
    "| 1- Regular       | 15 | 15 | 15 |15 | 20 | 20 | 20 | 200 |  \n",
    "| 2- Part-time     | 10 | 10 | 10 | 10 | 15 | 15 | 15 | 130|  \n",
    "| 3- Temporary     | 8 | 8 | 8 | 8 | 12 | 12 | 12 | 115 | \n",
    "| 4- On-call       | 9 | 9 | 9 | 9 | 13 | 13 | 13 | 95 |  \n",
    "| 5- Training      | 4 | 4 | 4 |4 |8 | 8 | 8 | 80 |  \n",
    "| 6- Manager       | 18 | 18 | 18 | 18 | 18 | 23 | 23 | 225|    \n"
   ]
  },
  {
   "cell_type": "markdown",
   "metadata": {},
   "source": [
    "Day | Budget\n",
    " -------- | ------ \n",
    "Monday | 50\n",
    "Tuesday | 50\n",
    "Wednesday | 50\n",
    "Thursday | 50\n",
    "Friday | 80\n",
    "Saturday | 80\n",
    "Sunday | 80\n"
   ]
  },
  {
   "cell_type": "markdown",
   "metadata": {},
   "source": [
    "The problem we are addressing can be formulated using the following model:  \n",
    " \n",
    "<li> <font color=\"blue\">Decision variables:</font>\n",
    "\n",
    "$$x_i =\n",
    "\\left\\{\\begin{array}{ll} \n",
    "1, & \\text{if employee type $i$ is selected,}\\\\\n",
    "0, & \\text{if employee type $i$ is not selected}\n",
    "\\end{array} \\right.\\quad i=1,2,3,4,5,6$$\n",
    "\n",
    "<li> <font color=\"blue\">Objective:</font> maximize profit.\n",
    "\n",
    "$$\n",
    "200 x_1 + 130 x_2 + 115 x_3 + 95 x_4 + 80 x_5 + 225 x_6\n",
    "$$\n",
    "\n",
    "\n",
    "\n",
    "<li><font color=\"blue\">Constraints:</font>\n",
    "<ul>\n",
    "\n",
    "<li>Budget per day:\n",
    "\n",
    "$$\n",
    "\\begin{array}{ll}\n",
    "15 x_1 + 10 x_2 + 8 x_3 + 9 x_4 + 4 x_5 + 18 x_6 \\leq 50 \n",
    "\\\\\n",
    "15 x_1 + 10 x_2 + 8 x_3 + 9 x_4 + 4 x_5 + 18 x_6 \\leq 50\n",
    "\\\\\n",
    "15 x_1 + 10 x_2 + 8 x_3 + 9 x_4 + 4 x_5 + 18 x_6 \\leq 50 \n",
    "\\\\\n",
    "15 x_1 + 10 x_2 + 8 x_3 + 9 x_4 + 4 x_5 + 18 x_6 \\leq 50 \n",
    "\\\\\n",
    "20 x_1 + 15 x_2 + 12 x_3 + 13 x_4 + 8 x_5 + 23 x_6 \\leq 80 \n",
    "\\\\\n",
    "20 x_1 + 15 x_2 + 12 x_3 + 13 x_4 + 8 x_5 + 23 x_6 \\leq 80 \n",
    "\\\\\n",
    "20 x_1 + 15 x_2 + 12 x_3 + 13 x_4 + 8 x_5 + 23 x_6 \\leq 80 \n",
    "\\end{array}\n",
    "$$\n",
    "\n",
    "\n",
    "\n",
    "<li>Binary variables:\n",
    "\n",
    "$$\n",
    "x_i \\in \\{ 0,1\\}, i=1,2,3,4,5,6\n",
    "$$\n",
    "</ul>\n",
    "\n",
    " \n",
    "  "
   ]
  },
  {
   "cell_type": "code",
   "execution_count": 26,
   "metadata": {},
   "outputs": [
    {
     "name": "stdout",
     "output_type": "stream",
     "text": [
      "OBJ : Size=1, Index=None, Active=True\n",
      "    Key  : Active : Value\n",
      "    None :   True : 635.0\n"
     ]
    }
   ],
   "source": [
    "\n",
    "from pyomo.environ import *\n",
    "# import gurobi\n",
    "model = ConcreteModel()\n",
    "\n",
    "# Variables\n",
    "model.x = Var([1,2,3,4,5,6], domain=Binary) \n",
    "\n",
    "# Objective function\n",
    "model.OBJ = Objective(expr=200*model.x[1] + 130*model.x[2] + 115*model.x[3] + 95*model.x[4] + 80*model.x[5] + 225*model.x[6], sense=maximize)\n",
    "\n",
    "\n",
    "# Constraints for each day of the week 1-7(Mon-Sun)\n",
    "\n",
    "# Monday\n",
    "model.cons1 = Constraint(expr=15*model.x[1] + 10*model.x[2] + 8*model.x[3] + 9*model.x[4] + 4*model.x[5] + 20*model.x[6] <=50)\n",
    "# Tuesday\n",
    "model.cons2= Constraint(expr=15*model.x[1] + 10*model.x[2] + 8*model.x[3] + 9*model.x[4] + 4*model.x[5]+ 20*model.x[6] <=50)\n",
    "# Wednesday\n",
    "model.cons3 = Constraint(expr=15*model.x[1] + 10*model.x[2] + 8*model.x[3] + 9*model.x[4] + 4*model.x[5]+ 20*model.x[6] <=50)\n",
    "# Thursday\n",
    "model.cons4 = Constraint(expr=15*model.x[1] + 10*model.x[2] + 8*model.x[3] + 9*model.x[4] + 4*model.x[5]+ 20*model.x[6] <=50)\n",
    "# Friday\n",
    "model.cons5 = Constraint(expr=20*model.x[1] + 15*model.x[2] + 12*model.x[3] + 13*model.x[4] + 8*model.x[5]+ 25*model.x[6] <=80)\n",
    "# Saturday\n",
    "model.cons6 = Constraint(expr=20*model.x[1] + 15*model.x[2] + 12*model.x[3] + 13*model.x[4] + 8*model.x[5]+ 25*model.x[6] <=80)\n",
    "# Sunday\n",
    "model.cons7 = Constraint(expr=20*model.x[1] + 15*model.x[2] + 12*model.x[3] + 13*model.x[4] + 8*model.x[5]+ 25*model.x[6] <=80)\n",
    "\n",
    "\n",
    "\n",
    "\n",
    "Solver = SolverFactory('glpk')\n",
    "\n",
    "# Solver = SolverFactory('gurobi')\n",
    "\n",
    "Results = Solver.solve(model)\n",
    "\n",
    "# Display solution\n",
    "display(model.OBJ)\n"
   ]
  },
  {
   "cell_type": "code",
   "execution_count": 27,
   "metadata": {},
   "outputs": [
    {
     "name": "stdout",
     "output_type": "stream",
     "text": [
      "Model unknown\n",
      "\n",
      "  Variables:\n",
      "    x : Size=6, Index=x_index\n",
      "        Key : Lower : Value : Upper : Fixed : Stale : Domain\n",
      "          1 :     0 :   1.0 :     1 : False : False : Binary\n",
      "          2 :     0 :   1.0 :     1 : False : False : Binary\n",
      "          3 :     0 :   0.0 :     1 : False : False : Binary\n",
      "          4 :     0 :   0.0 :     1 : False : False : Binary\n",
      "          5 :     0 :   1.0 :     1 : False : False : Binary\n",
      "          6 :     0 :   1.0 :     1 : False : False : Binary\n",
      "\n",
      "  Objectives:\n",
      "    OBJ : Size=1, Index=None, Active=True\n",
      "        Key  : Active : Value\n",
      "        None :   True : 635.0\n",
      "\n",
      "  Constraints:\n",
      "    cons1 : Size=1\n",
      "        Key  : Lower : Body : Upper\n",
      "        None :  None : 49.0 :  50.0\n",
      "    cons2 : Size=1\n",
      "        Key  : Lower : Body : Upper\n",
      "        None :  None : 49.0 :  50.0\n",
      "    cons3 : Size=1\n",
      "        Key  : Lower : Body : Upper\n",
      "        None :  None : 49.0 :  50.0\n",
      "    cons4 : Size=1\n",
      "        Key  : Lower : Body : Upper\n",
      "        None :  None : 49.0 :  50.0\n",
      "    cons5 : Size=1\n",
      "        Key  : Lower : Body : Upper\n",
      "        None :  None : 68.0 :  80.0\n",
      "    cons6 : Size=1\n",
      "        Key  : Lower : Body : Upper\n",
      "        None :  None : 68.0 :  80.0\n",
      "    cons7 : Size=1\n",
      "        Key  : Lower : Body : Upper\n",
      "        None :  None : 68.0 :  80.0\n"
     ]
    }
   ],
   "source": [
    "display(model)"
   ]
  },
  {
   "cell_type": "markdown",
   "metadata": {},
   "source": [
    "From the **solution** we can see that the service will hire the following **employees**:\n",
    "\n",
    "- 1 Regular employee ($x_1$)\n",
    "- 1 Part-time employee ($x_2$)\n",
    "- 1 Training employee ($x_5$)\n",
    "- 1 Manager employee ($x_6$)\n",
    "\n",
    "And the total **profit** will be equal to **635 euros**"
   ]
  },
  {
   "cell_type": "markdown",
   "metadata": {},
   "source": [
    "## Conclusions"
   ]
  },
  {
   "cell_type": "markdown",
   "metadata": {},
   "source": [
    "In this first project we gained much knowledge and insights about linear and discrete models, apart from the mathematical background behind these concepts learnt in the theoretical classes we were able to develop a simple solution for a problem that many companies can face in their day-to-day which is workforce scheduling and hiring in order to maximize their financial return.\n",
    "We still think that there is still room for improvement in case it is a more complex problem, but we are happy with the obtained results. Looking forward to the next challenge!"
   ]
  }
 ],
 "metadata": {
  "kernelspec": {
   "display_name": "Python 3",
   "language": "python",
   "name": "python3"
  },
  "language_info": {
   "codemirror_mode": {
    "name": "ipython",
    "version": 3
   },
   "file_extension": ".py",
   "mimetype": "text/x-python",
   "name": "python",
   "nbconvert_exporter": "python",
   "pygments_lexer": "ipython3",
   "version": "3.10.7"
  }
 },
 "nbformat": 4,
 "nbformat_minor": 2
}
