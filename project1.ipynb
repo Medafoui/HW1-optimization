{
 "cells": [
  {
   "cell_type": "markdown",
   "metadata": {},
   "source": [
    "## Names: \n",
    "\n",
    "#### Mohamed Afif Chifaoui\n",
    "\n",
    "#### Ricardo Vazquez Alvarez\n",
    "\n",
    "---"
   ]
  },
  {
   "cell_type": "markdown",
   "metadata": {},
   "source": [
    "# Linear and Discrete Models First Homework\n",
    "\n",
    "\n",
    "## Problem statement:\n",
    "\n",
    "A service company operates in three shifts (Morning, Afternoon, Night) and needs to determine the number of employees assigned to each shift. The objective is to minimize labor costs while ensuring sufficient staffing levels for service demand.\n",
    "\n",
    "Firstly, we can determine that there are two types of sets for the model (the sets of shifts and the employee types). \n",
    "\n",
    "1. $S$: Set of Shifts (Morning, Afternoon, Nights)\n",
    "2. $E$: Set of employee types (Regular, Part-time, Temporary, On-call, Vacation, Training).\n",
    "\n",
    "The parameters to be used in the objective function and the constraints will be the following:\n",
    "\n",
    "1. $C_{e}$: Cost per hour for each employee type. ($e \\in E$)\n",
    "2. $D_{s}$: Service demand for each shift. ($s \\in S$).\n",
    "3. $M_{s}$: Maximum overtime hours allowed for each shift. ($s \\in S$)\n",
    "4. $U_{e}$: Maximum allowed number for each employee type. ($e \\in E$, Part-time, Temporary, On-call, Vacation, Training).\n",
    "\n",
    "The variables are those employees with their type ($e$) to be assigned to a shift ($s$).\n",
    "- $X_{es}$: Number of employees of type $e$ assigned to shift $s$.\n",
    "\n",
    "Leading to the Objective function:\n",
    "\n",
    "$$\\text{Minimize} \\;\\; Z = \\sum_{e\\in E}^{}\\sum_{s\\in S}^{} C_{e}\\cdot X_{es}$$\n",
    "\n",
    "\n",
    "\n",
    "### Decision Variables:\n",
    "\n",
    "The following are the individual decision variables that will be used:\n",
    "\n",
    "- $x_{1}$: Number of employees assigned to the Morning shift.\n",
    "- $x_{2}$: Number of employees assigned to the Afternoon shift.\n",
    "- $x_{3}$: Number of employees assigned to the Night shift.\n",
    "- $x_{4}$: Overtime hours for the Morning shift.\n",
    "- $x_{5}$: Overtime hours for the Afternoon shift.\n",
    "- $x_{6}$: Overtime hours for the Night shift.\n",
    "- $x_{7}$: Number of employees assigned to the Morning shift.\n",
    "- $x_{8}$: Number of employees assigned to the Afternoon shift.\n",
    "- $x_{9}$: Number of employees assigned to the Night shift.\n",
    "- $x_{10}$: Number of temporary employees assigned to the Morning shift.\n",
    "- $x_{11}$: Number of temporary employees assigned to the Afternoon shift.\n",
    "- $x_{12}$: Number of temporary employees assigned to the Night shift.\n",
    "- $x_{13}$: Number of on-call employees for the Morning shift.\n",
    "- $x_{14}$: Number of on-call employees for the Afternoon shift.\n",
    "- $x_{15}$: Number of on-call employees for the Night shift.\n",
    "- $x_{16}$: Number of employees on vacation during the Morning shift.\n",
    "- $x_{17}$: Number of employees on vacation during the Afternoon shift.\n",
    "- $x_{18}$: Number of employees on vacation during the Night shift.\n",
    "- $x_{19}$: Number of employees on training during the Morning shift.\n",
    "- $x_{20}$: Number of employees on training during the Afternoon shift.\n",
    "- $x_{21}$: Number of employees on training during the Night shift.\n",
    "\n",
    "\n",
    "### Constraints:\n",
    "\n",
    "1. Shift Coverage Constraints:\n",
    "$$\\sum_{e\\in E} X_{es} = D_{s} \\qquad \\text{for all} \\;\\;s \\in S$$\n",
    "\n",
    "2. Overtime Constraints:\n",
    "\n",
    "$$X_{4s} \\leq M_{s} \\qquad \\text{for all} \\;\\;s \\in S$$\n",
    "\n",
    "3. Employee Type Constraints:\n",
    "\n",
    "$$X_{7s}, X_{8s}, X_{9s} \\leq U_{\\text{Part-time}}$$\n",
    "\n",
    "$$X_{10s}, X_{11s}, X_{12s} \\leq U_{\\text{Temporary}}$$\n",
    "\n",
    "$$X_{13s}, X_{14s}, X_{15s} \\leq U_{\\text{On-call}}$$\n",
    "\n",
    "$$X_{16s}, X_{17s}, X_{18s} \\leq U_{\\text{Vacation}}$$\n",
    "\n",
    "$$X_{19s}, X_{20s} \\leq U_{\\text{Training}}$$\n",
    "\n",
    "4. Non-negativity constraints:\n",
    "\n",
    "$$ X_{es} \\geq 0 \\quad(\\text{for all}\\; e\\in E,\\; s\\in S)$$ \n"
   ]
  },
  {
   "cell_type": "markdown",
   "metadata": {},
   "source": [
    "---\n",
    "\n",
    "### Ignore above\n",
    "\n",
    "---"
   ]
  },
  {
   "cell_type": "markdown",
   "metadata": {},
   "source": []
  },
  {
   "cell_type": "code",
   "execution_count": 145,
   "metadata": {},
   "outputs": [],
   "source": [
    "import pandas as pd\n",
    "import numpy as np\n",
    "from pyomo.environ import * "
   ]
  },
  {
   "cell_type": "code",
   "execution_count": 146,
   "metadata": {},
   "outputs": [],
   "source": [
    "model = ConcreteModel()\n",
    "\n",
    "# Insert your code below\n",
    "#  'Tuesday', 'Wednesday', 'Thursday', 'Friday'\n",
    "model.i = Set(initialize = ['Morning', 'Afternoon', 'Night'], doc = 'Shift')\n",
    "\n",
    "# The types of different Employee\n",
    "model.j = Set(initialize = ['Regular', 'PartTime', 'Temp', 'OnCall', 'Training', 'Managers', 'Security'], doc = 'EmployeeType')\n",
    "\n",
    "\n",
    "\n",
    "\n",
    "# total amount of workers needed on a shift\n",
    "\n",
    "model.total_workers_needed_onshift = Param(model.i, initialize= {'Morning':30, 'Afternoon': 30, 'Night': 30}) # we need 30 workers total\n",
    "# Total amount of different workers we have for each type (each are independent - a worker of one type cannot be of another type).\n",
    "model.indiv_workers_have = Param(model.j, initialize={'Regular': 50, 'PartTime': 10, 'Temp': 10, \n",
    "                                                      'OnCall': 40, 'Training': 50, 'Managers': 10, 'Security': 5})\n",
    "\n",
    "\n",
    "# cost of each worker for each shift.\n",
    "costperworkershift = {\n",
    "\n",
    "    # total 21 decision variables\n",
    "    ('Morning', 'Regular'): 30,\n",
    "    ('Morning', 'PartTime'): 20,\n",
    "    ('Morning', 'Temp'): 15,\n",
    "    ('Morning', 'OnCall'): 25,\n",
    "    ('Morning', 'Training'): 10,\n",
    "    ('Morning', 'Managers'): 55,\n",
    "    ('Morning', 'Security'): 40,\n",
    "\n",
    "    ('Afternoon', 'Regular'): 30,\n",
    "    ('Afternoon', 'PartTime'): 20,\n",
    "    ('Afternoon', 'Temp'): 15,\n",
    "    ('Afternoon', 'OnCall'): 25,\n",
    "    ('Afternoon', 'Training'): 10,\n",
    "    ('Afternoon', 'Managers'): 55,\n",
    "    ('Afternoon', 'Security'): 40,\n",
    "\n",
    "    ('Night', 'Regular'): 50,\n",
    "    ('Night', 'PartTime'): 20,\n",
    "    ('Night', 'Temp'): 15,\n",
    "    ('Night', 'OnCall'): 30,\n",
    "    ('Night', 'Training'): 10,\n",
    "    ('Night', 'Managers'): 60,\n",
    "    ('Night', 'Security'): 60,\n",
    " \n",
    "\n",
    "}\n",
    "\n",
    "# Cost function using the above costperworkershift\n",
    "model.Cost = Param(model.i, model.j, initialize = costperworkershift, doc = 'cost of queries')"
   ]
  },
  {
   "cell_type": "code",
   "execution_count": 147,
   "metadata": {},
   "outputs": [],
   "source": [
    "# Decision variables we want to solve for\n",
    "# must be NonNegative since we have that condition (trivial constraint) and must be integers\n",
    "# (cannot have a decimal amount of a person)\n",
    "\n",
    "model.x = Var(model.i, model.j, doc = 'Planning', within=NonNegativeIntegers)\n",
    "\n",
    "\n",
    "# we want to minimize the total cost in a day\n",
    "def objective_rule(model):\n",
    "    return sum(model.Cost[i,j]*model.x[i,j] for i in model.i for j in model.j)\n",
    "\n",
    "model.objective = Objective(rule = objective_rule, sense = minimize, doc = 'cost per day')"
   ]
  },
  {
   "cell_type": "code",
   "execution_count": 148,
   "metadata": {},
   "outputs": [],
   "source": [
    "# Demand on the shift. Each shift has different demands\n",
    "def demand(model, i):\n",
    "\n",
    "    # i = shift, j = employee type \n",
    "    # we are adding all the number of employees to be the amount needed on that shift\n",
    "    return sum(model.x[i,j] for j in model.j)>=model.total_workers_needed_onshift[i]\n",
    "\n",
    "model.demand = Constraint(model.i, rule = demand, doc= 'employee demand during shift')"
   ]
  },
  {
   "cell_type": "code",
   "execution_count": 149,
   "metadata": {},
   "outputs": [],
   "source": [
    "# make sure that we are within the constraint of the amount of employees we have\n",
    "def requisites(model, j):\n",
    "\n",
    "    # i = shift, j = employee type \n",
    "    # we are adding all the number of employees to be the amount needed on that shift\n",
    "    return sum(model.x[i,j] for i in model.i)<=model.indiv_workers_have[j]\n",
    "\n",
    "model.reqs = Constraint(model.j, rule = requisites, doc= 'employee of shift type we have')"
   ]
  },
  {
   "cell_type": "code",
   "execution_count": 150,
   "metadata": {},
   "outputs": [],
   "source": [
    "# If we choose a training, we must also have a regular to accompany and train them (1 regular per training)\n",
    "\n",
    "def training_regular(model, i):\n",
    "    return model.x[i, 'Training'] <= model.x[i, 'Regular']\n",
    "\n",
    "model.train_reg = Constraint(model.i, rule = training_regular, doc = 'Each training accompanied by a Regular')"
   ]
  },
  {
   "cell_type": "code",
   "execution_count": 151,
   "metadata": {},
   "outputs": [],
   "source": [
    "# We need at least 3 managers at all shifts:\n",
    "def managers_3(model, i):\n",
    "    return model.x[i, 'Managers'] >= 3\n",
    "\n",
    "model.managers_3 = Constraint(model.i, rule = managers_3, doc = 'Must have at least 3 managers')"
   ]
  },
  {
   "cell_type": "code",
   "execution_count": 152,
   "metadata": {},
   "outputs": [],
   "source": [
    "# We need at least 1 Security per shift\n",
    "def security(model, i):\n",
    "\n",
    "    # i = shift, j = employee type\n",
    "    return model.x[i, 'Security'] >= 1\n",
    "\n",
    "model.security = Constraint(model.i, rule = security, doc = 'Must have at least 1 Security per shift')"
   ]
  },
  {
   "cell_type": "code",
   "execution_count": 153,
   "metadata": {},
   "outputs": [
    {
     "name": "stdout",
     "output_type": "stream",
     "text": [
      "x : Planning\n",
      "    Size=21, Index=x_index\n",
      "    Key                       : Lower : Value : Upper : Fixed : Stale : Domain\n",
      "    ('Afternoon', 'Managers') :     0 :   3.0 :  None : False : False : NonNegativeIntegers\n",
      "      ('Afternoon', 'OnCall') :     0 :   0.0 :  None : False : False : NonNegativeIntegers\n",
      "    ('Afternoon', 'PartTime') :     0 :   0.0 :  None : False : False : NonNegativeIntegers\n",
      "     ('Afternoon', 'Regular') :     0 :  13.0 :  None : False : False : NonNegativeIntegers\n",
      "    ('Afternoon', 'Security') :     0 :   1.0 :  None : False : False : NonNegativeIntegers\n",
      "        ('Afternoon', 'Temp') :     0 :   0.0 :  None : False : False : NonNegativeIntegers\n",
      "    ('Afternoon', 'Training') :     0 :  13.0 :  None : False : False : NonNegativeIntegers\n",
      "      ('Morning', 'Managers') :     0 :   3.0 :  None : False : False : NonNegativeIntegers\n",
      "        ('Morning', 'OnCall') :     0 :   0.0 :  None : False : False : NonNegativeIntegers\n",
      "      ('Morning', 'PartTime') :     0 :   0.0 :  None : False : False : NonNegativeIntegers\n",
      "       ('Morning', 'Regular') :     0 :  13.0 :  None : False : False : NonNegativeIntegers\n",
      "      ('Morning', 'Security') :     0 :   1.0 :  None : False : False : NonNegativeIntegers\n",
      "          ('Morning', 'Temp') :     0 :   0.0 :  None : False : False : NonNegativeIntegers\n",
      "      ('Morning', 'Training') :     0 :  13.0 :  None : False : False : NonNegativeIntegers\n",
      "        ('Night', 'Managers') :     0 :   3.0 :  None : False : False : NonNegativeIntegers\n",
      "          ('Night', 'OnCall') :     0 :   6.0 :  None : False : False : NonNegativeIntegers\n",
      "        ('Night', 'PartTime') :     0 :  10.0 :  None : False : False : NonNegativeIntegers\n",
      "         ('Night', 'Regular') :     0 :   0.0 :  None : False : False : NonNegativeIntegers\n",
      "        ('Night', 'Security') :     0 :   1.0 :  None : False : False : NonNegativeIntegers\n",
      "            ('Night', 'Temp') :     0 :  10.0 :  None : False : False : NonNegativeIntegers\n",
      "        ('Night', 'Training') :     0 :   0.0 :  None : False : False : NonNegativeIntegers\n"
     ]
    }
   ],
   "source": [
    "\n",
    "# Define a solver \n",
    "Solver = SolverFactory('glpk')\n",
    "\n",
    "# Obtain the solution\n",
    "Results = Solver.solve(model)\n",
    "\n",
    "# Display the solution\n",
    "model.x.display()"
   ]
  },
  {
   "cell_type": "code",
   "execution_count": 154,
   "metadata": {},
   "outputs": [
    {
     "data": {
      "text/plain": [
       "2220.0"
      ]
     },
     "execution_count": 154,
     "metadata": {},
     "output_type": "execute_result"
    }
   ],
   "source": [
    "# total amount of money spent\n",
    "model.objective()\n"
   ]
  },
  {
   "cell_type": "code",
   "execution_count": 155,
   "metadata": {},
   "outputs": [],
   "source": [
    "def obtain_df_solution(model):\n",
    "    \n",
    "    names = ['Morning', 'Afternoon', 'Night']\n",
    "    shifts = ['Regular', 'PartTime', 'Temp', 'OnCall', 'Training', 'Managers', 'Security']\n",
    "    values = []\n",
    "\n",
    "    values_array = np.empty((0, 7))\n",
    "\n",
    "    # appending all the values of how many employee types to get for a shift\n",
    "    for v in model.component_data_objects(Var, active=True):\n",
    "        values.append(v.value)\n",
    "\n",
    "    # morning_nparray = values[0:len(shifts)]\n",
    "    # afternoon_nparray = values[len(shifts):len(shifts)*2]\n",
    "    # night_nparray = values[len(shifts)*2, len(shifts)*3]\n",
    "\n",
    "    for i in range(0,len(names)):\n",
    "        values_array = np.append(values_array, [values[len(shifts)*i:len(shifts)*(i+1)]], axis=0)\n",
    "\n",
    "    # creating the df\n",
    "    df = pd.DataFrame(values_array, index=names, columns=shifts)\n",
    "\n",
    "\n",
    "    Solver = SolverFactory('glpk')\n",
    "\n",
    "    # Obtain the solution\n",
    "\n",
    "    return df"
   ]
  },
  {
   "cell_type": "code",
   "execution_count": 156,
   "metadata": {},
   "outputs": [
    {
     "ename": "ValueError",
     "evalue": "too many values to unpack (expected 2)",
     "output_type": "error",
     "traceback": [
      "\u001b[1;31m---------------------------------------------------------------------------\u001b[0m",
      "\u001b[1;31mValueError\u001b[0m                                Traceback (most recent call last)",
      "\u001b[1;32mc:\\Users\\Ricardo\\Desktop\\HW1-optimization\\project1.ipynb Cell 16\u001b[0m line \u001b[0;36m1\n\u001b[1;32m----> <a href='vscode-notebook-cell:/c%3A/Users/Ricardo/Desktop/HW1-optimization/project1.ipynb#X21sZmlsZQ%3D%3D?line=0'>1</a>\u001b[0m df, objective \u001b[39m=\u001b[39m obtain_df_solution(model)\n\u001b[0;32m      <a href='vscode-notebook-cell:/c%3A/Users/Ricardo/Desktop/HW1-optimization/project1.ipynb#X21sZmlsZQ%3D%3D?line=1'>2</a>\u001b[0m \u001b[39mprint\u001b[39m(objective)\n\u001b[0;32m      <a href='vscode-notebook-cell:/c%3A/Users/Ricardo/Desktop/HW1-optimization/project1.ipynb#X21sZmlsZQ%3D%3D?line=2'>3</a>\u001b[0m df\n",
      "\u001b[1;31mValueError\u001b[0m: too many values to unpack (expected 2)"
     ]
    }
   ],
   "source": [
    "df, objective = obtain_df_solution(model)\n",
    "print(objective)\n",
    "df"
   ]
  },
  {
   "cell_type": "code",
   "execution_count": null,
   "metadata": {},
   "outputs": [
    {
     "data": {
      "text/plain": [
       "{'Morning': 30, 'Afternoon': 30, 'Night': 30}"
      ]
     },
     "execution_count": 81,
     "metadata": {},
     "output_type": "execute_result"
    }
   ],
   "source": [
    "# can be removed\n",
    "\n",
    "demandonday = [30, 30, 30]\n",
    "names = ['Morning', 'Afternoon', 'Night']\n",
    "\n",
    "initializeworkersneeded = {str(key):value for key,value in zip(names,demandonday)}\n",
    "initializeworkersneeded"
   ]
  },
  {
   "cell_type": "code",
   "execution_count": null,
   "metadata": {},
   "outputs": [],
   "source": [
    "def ComputeModel(demandonday:list):\n",
    "\n",
    "    # demandonday represents a list containing the demands on all shifts per day\n",
    "    # if we are to use the above list then all we need to change is the\n",
    "    # model.total_workers_needed_onshift and initialize it with the \n",
    "    # specific numbers per shift.\n",
    "\n",
    "    # Therefore, we need to create a dictionary for this\n",
    "\n",
    "\n",
    "    # example demandonday = [30, 30, 30]\n",
    "\n",
    "\n",
    "    # Then create a list of names for the shifts\n",
    "    names = ['Morning', 'Afternoon', 'Night']\n",
    "\n",
    "    # create the dictionary needed with a comprehension format\n",
    "    initializeworkersneeded = {str(key):value for key,value in zip(names,demandonday)}\n",
    "\n",
    "\n",
    "    model = ConcreteModel()\n",
    "\n",
    "    # Insert your code below\n",
    "    #  'Tuesday', 'Wednesday', 'Thursday', 'Friday'\n",
    "    model.i = Set(initialize = names, doc = 'Shift')\n",
    "\n",
    "    # The types of different Employee\n",
    "    model.j = Set(initialize = ['Regular', 'PartTime', 'Temp', 'OnCall', 'Training', 'Managers', 'Security'], doc = 'EmployeeType')\n",
    "\n",
    "    # total amount of workers needed on a shift\n",
    "    model.total_workers_needed_onshift = Param(model.i, initialize= initializeworkersneeded) # we need 'a' workers total per shift\n",
    "\n",
    "    # Total amount of different workers we have for each type (each are independent - a worker of one type cannot be of another type).\n",
    "    model.indiv_workers_have = Param(model.j, initialize={'Regular': 50, 'PartTime': 10, 'Temp': 10, \n",
    "                                                        'OnCall': 40, 'Training': 50, 'Managers': 10, 'Security': 5})\n",
    "\n",
    "\n",
    "    # cost of each worker for each shift.\n",
    "    costperworkershift = {\n",
    "\n",
    "        # total 21 decision variables\n",
    "        ('Morning', 'Regular'): 30,\n",
    "        ('Morning', 'PartTime'): 20,\n",
    "        ('Morning', 'Temp'): 15,\n",
    "        ('Morning', 'OnCall'): 25,\n",
    "        ('Morning', 'Training'): 10,\n",
    "        ('Morning', 'Managers'): 55,\n",
    "        ('Morning', 'Security'): 40,\n",
    "\n",
    "\n",
    "        ('Afternoon', 'Regular'): 30,\n",
    "        ('Afternoon', 'PartTime'): 20,\n",
    "        ('Afternoon', 'Temp'): 15,\n",
    "        ('Afternoon', 'OnCall'): 25,\n",
    "        ('Afternoon', 'Training'): 10,\n",
    "        ('Afternoon', 'Managers'): 55,\n",
    "        ('Afternoon', 'Security'): 40,\n",
    "\n",
    "\n",
    "        ('Night', 'Regular'): 50,\n",
    "        ('Night', 'PartTime'): 20,\n",
    "        ('Night', 'Temp'): 15,\n",
    "        ('Night', 'OnCall'): 30,\n",
    "        ('Night', 'Training'): 10,\n",
    "        ('Night', 'Managers'): 60,\n",
    "        ('Night', 'Security'): 60,\n",
    "\n",
    "    }\n",
    "\n",
    "    # Cost function using the above costperworkershift\n",
    "    model.Cost = Param(model.i, model.j, initialize = costperworkershift, doc = 'cost of queries')\n",
    "\n",
    "    # Decision variables we want to solve for\n",
    "    # must be NonNegative since we have that condition (trivial constraint) and must be integers\n",
    "    # (cannot have a decimal amount of a person)\n",
    "\n",
    "    model.x = Var(model.i, model.j, doc = 'Planning', within=NonNegativeIntegers)\n",
    "\n",
    "\n",
    "    # we want to minimize the total cost in a day\n",
    "    def objective_rule(model):\n",
    "        return sum(model.Cost[i,j]*model.x[i,j] for i in model.i for j in model.j)\n",
    "\n",
    "    model.objective = Objective(rule = objective_rule, sense = minimize, doc = 'cost per day')\n",
    "\n",
    "    def demand(model, i):\n",
    "\n",
    "        # i = shift, j = employee type \n",
    "        # we are adding all the number of employees to be the amount needed on that shift\n",
    "        return sum(model.x[i,j] for j in model.j)>=model.total_workers_needed_onshift[i]\n",
    "\n",
    "    model.demand = Constraint(model.i, rule = demand, doc= 'employee demand during shift')\n",
    "\n",
    "    def requisites(model, j):\n",
    "\n",
    "        # i = shift, j = employee type \n",
    "        # we are adding all the number of employees to be the amount needed on that shift\n",
    "        return sum(model.x[i,j] for i in model.i)<=model.indiv_workers_have[j]\n",
    "\n",
    "    model.reqs = Constraint(model.j, rule = requisites, doc= 'employee of shift type we have')\n",
    "\n",
    "    # If we choose a training, we must also have a regular to accompany and train them (1 regular per training)\n",
    "\n",
    "    def training_regular(model, i):\n",
    "\n",
    "        return model.x[i, 'Training'] <= model.x[i, 'Regular']\n",
    "\n",
    "    model.train_reg = Constraint(model.i, rule = training_regular, doc = 'Each training accompanied by a Regular')\n",
    "\n",
    "    # We need at least 3 managers at all shifts:\n",
    "    def managers_3(model, i):\n",
    "        return model.x[i, 'Managers'] >= 3\n",
    "\n",
    "    model.managers_3 = Constraint(model.i, rule = managers_3, doc = 'Must have at least 3 managers')\n",
    "\n",
    "    # We need at least 1 Security per shift\n",
    "    def security(model, i):\n",
    "\n",
    "        # i = shift, j = employee type\n",
    "        return model.x[i, 'Security'] >= 1\n",
    "\n",
    "    model.security = Constraint(model.i, rule = security, doc = 'Must have at least 1 Security per shift')\n",
    "\n",
    "    Results = Solver.solve(model)\n",
    "    \n",
    "    obj = model.objective()\n",
    "\n",
    "    \n",
    "    return model,obj"
   ]
  },
  {
   "cell_type": "code",
   "execution_count": null,
   "metadata": {},
   "outputs": [],
   "source": []
  },
  {
   "cell_type": "code",
   "execution_count": null,
   "metadata": {},
   "outputs": [],
   "source": [
    "demandMonday  = [30,30,30]\n",
    "modelMonday,objectiveMonday = ComputeModel(demandMonday)\n",
    "dfMonday = obtain_df_solution(modelMonday)\n",
    "\n",
    "\n",
    "demandTuesday= [60,50,50]\n",
    "modelTuesday, objectiveTuesday  = ComputeModel(demandTuesday)\n",
    "dfTuesday= obtain_df_solution(modelTuesday)\n",
    "\n",
    "\n",
    "# pricing_of_each"
   ]
  },
  {
   "cell_type": "code",
   "execution_count": null,
   "metadata": {},
   "outputs": [
    {
     "data": {
      "text/plain": [
       "[13.0, 0.0, 0.0, 0.0, 13.0, 3.0, 1.0]"
      ]
     },
     "execution_count": 126,
     "metadata": {},
     "output_type": "execute_result"
    }
   ],
   "source": [
    "selected_row = dfMonday.iloc[1]\n",
    "selected_row = [each for each in selected_row]\n",
    "selected_row"
   ]
  },
  {
   "cell_type": "code",
   "execution_count": null,
   "metadata": {},
   "outputs": [],
   "source": []
  },
  {
   "cell_type": "code",
   "execution_count": null,
   "metadata": {},
   "outputs": [],
   "source": [
    "# note that demand on day must be within the limits of how many employees we actually have\n",
    "\n",
    "# demandonday = [50,60,50]\n",
    "\n",
    "# mymodel = ComputeModel(demandonday)\n",
    "\n",
    "\n",
    "# df, objective = obtain_df_solution(mymodel)\n",
    "# print(objective)\n",
    "# df\n",
    "\n",
    "# demandmonday = [20,20,20]\n",
    "# demandtuesday = [20,20,20]\n",
    "# demandwednesday = [20,20,20]\n",
    "# demandthursday = [20,20,20]\n",
    "# demandfriday = [20,20,20]\n",
    "# demandsaturday = [20,20,20]\n",
    "# demandsunday = [20,20,20]\n",
    "\n",
    "# demandtotal = [demandmonday, demandtuesday, demandwednesday, demandthursday, demandfriday, demandsaturday, demandsunday]\n",
    "\n",
    "\n",
    "# alldfs = []\n",
    "\n",
    "\n",
    "# for i in range(0,len(demandtotal)):\n",
    "\n",
    "#     mymodel = ComputeModel(demandtotal[i])\n",
    "\n",
    "#     df, objective = obtain_df_solution(mymodel)\n",
    "#     alldfs.append(df)\n",
    "\n",
    "\n",
    "\n",
    "\n"
   ]
  },
  {
   "cell_type": "markdown",
   "metadata": {},
   "source": [
    "# \n",
    "\n",
    "\n"
   ]
  },
  {
   "cell_type": "markdown",
   "metadata": {},
   "source": [
    "---\n",
    "---\n",
    "\n",
    "# Todo\n",
    "\n",
    "\n",
    "- Even out the cost of each employee per shift\n",
    "\n",
    "\n",
    "- Plot for each day of the week a calender for the employees\n"
   ]
  },
  {
   "cell_type": "markdown",
   "metadata": {},
   "source": [
    "## Part C: Sensitivities associated with each constraint, and interpretion of the obtained values."
   ]
  },
  {
   "cell_type": "code",
   "execution_count": null,
   "metadata": {},
   "outputs": [],
   "source": [
    "# # Display the optimal solution\n",
    "# print(f\"Optimal Value: {model.objective()}\")\n",
    "\n",
    "# # Sensitivity analysis\n",
    "# print(\"\\nSensitivity Analysis:\")\n",
    "# # Sensitivity analysis using solver results\n",
    "# print(\"\\nSensitivity Analysis:\")\n",
    "# dual_values = {}\n",
    "# for constr in model.component_objects(Constraint, active=True):\n",
    "#     dual_values[constr] = model.dual[constr]\n",
    "\n",
    "# print(\"Dual Values:\", dual_values)"
   ]
  },
  {
   "cell_type": "code",
   "execution_count": null,
   "metadata": {},
   "outputs": [],
   "source": [
    "# from pyomo.contrib.sensitivity_toolbox.sens import sensitivity_calculation"
   ]
  },
  {
   "cell_type": "code",
   "execution_count": null,
   "metadata": {},
   "outputs": [],
   "source": [
    "# model.pert_workneeded = Param(model.i, initialize= {'Morning':40, 'Afternoon': 50, 'Night': 60}) # we need 30 workers total\n",
    "# # model.perturbed_eta1 = Param(initialize = 4.0)\n",
    "\n",
    "# # model.perturbed_eta2 = Param(initialize = 1.0)\n",
    "# m_kaug_dsdp = sensitivity_calculation('k_aug', model, [model.total_workers_needed_onshift], [model.pert_workneeded], tee=False)"
   ]
  },
  {
   "cell_type": "code",
   "execution_count": null,
   "metadata": {},
   "outputs": [],
   "source": [
    "# model.pprint()"
   ]
  },
  {
   "cell_type": "code",
   "execution_count": null,
   "metadata": {},
   "outputs": [],
   "source": [
    "# # Create a pandas DataFrame from the sensitivity data\n",
    "# sensitivity_df = pd.DataFrame.from_dict({\n",
    "#     'Variable': [var for var in model.component_objects(Var, active=True)],\n",
    "#     'Reduced Cost': [model.rc[var] for var in model.component_objects(Var, active=True)],\n",
    "#     'Dual Value': [model.dual[constr] for constr in model.component_objects(Constraint, active=True)]\n",
    "# })\n",
    "\n",
    "# # Display the sensitivity DataFrame\n",
    "# print(\"\\nSensitivity Analysis:\")\n",
    "# print(sensitivity_df)"
   ]
  },
  {
   "cell_type": "markdown",
   "metadata": {},
   "source": [
    "### Part D: Binary Variables:\n",
    "\n",
    "Modify the problem in (a) to impose some logical and conditional constraints that require the use of binary or integer variables. The more integer variables or constraints, the better. Implement and solve this new model and interpret the results."
   ]
  },
  {
   "cell_type": "markdown",
   "metadata": {},
   "source": [
    " Employee | Monday | Tuesday | Wednesday | Thursday | Friday | Saturday | Sunday | Profit\n",
    " -------|--------|--|--|---------\n",
    "  1 |  9 | 9 | 9  | |6  |7   8|| \n",
    "  2 |  4 | 7 | 10 | 40 |\n",
    "  3 |  2 | 3 | 4  | 5 | 6 | 7 | 8|   4 |  7 | 4 | 1  |  15\n",
    "  4 |  2 | 3 | 4  | 5 | 6 | 7 | 8| \n",
    "  5 |  2 | 3 | 4  | 5 | 6 | 7 | 8| \n",
    "  6 |  2 | 3 | 4  | 5 | 6 | 7 | 8| \n",
    "1 |  2 | 3 | 4  | 5 | 6 | 7 | 8| \n",
    "\n"
   ]
  },
  {
   "cell_type": "markdown",
   "metadata": {},
   "source": [
    "| $_\\text{Employee Type}$  $^{\\text{Day of week}}$ | Monday | Tuesday | Wednesday | Thursday | Friday | Saturday | Sunday | Profit |\n",
    "|---------------|---------|-----------|-------|-----|-----|-----|-----|-----|\n",
    "| 1- Regular       | 15 | 15 | 15 |15 | 20 | 20 | 20 | 200 |  \n",
    "| 2- Part-time     | 10 | 10 | 10 | 10 | 15 | 15 | 15 | 130|  \n",
    "| 3- Temporary     | 8 | 8 | 8 | 8 | 12 | 12 | 12 | 115 | \n",
    "| 4- On-call       | 9 | 9 | 9 | 9 | 13 | 13 | 13 | 95 |  \n",
    "| 5- Training      | 4 | 4 | 4 |4 |8 | 8 | 8 | 80 |  \n",
    "| 6- Manager       | 18 | 18 | 18 | 18 | 18 | 23 | 23 | 225|    \n"
   ]
  },
  {
   "cell_type": "code",
   "execution_count": 160,
   "metadata": {},
   "outputs": [
    {
     "name": "stdout",
     "output_type": "stream",
     "text": [
      "OBJ : Size=1, Index=None, Active=True\n",
      "    Key  : Active : Value\n",
      "    None :   True : 635.0\n"
     ]
    }
   ],
   "source": [
    "#\n",
    "\n",
    "\n",
    "from pyomo.environ import *\n",
    "import gurobipy\n",
    "model = ConcreteModel()\n",
    "\n",
    "# variables\n",
    "model.x = Var([1,2,3,4,5,6], domain=Binary) # NOTE the domain = Binary\n",
    "\n",
    "# objective function --> DONT FORGET THE sense=maximize\n",
    "model.OBJ = Objective(expr=200*model.x[1] + 130*model.x[2] + 115*model.x[3] + 95*model.x[4] + 80*model.x[5] + 225*model.x[6], sense=maximize)\n",
    "\n",
    "# constraints\n",
    "\n",
    "# constraint for each days of the week 1-7(Mon-Sun)\n",
    "\n",
    "# Monday\n",
    "model.cons1 = Constraint(expr=15*model.x[1] + 10*model.x[2] + 8*model.x[3] + 9*model.x[4] + 4*model.x[5] + 20*model.x[6] <=50)\n",
    "# Tuesday\n",
    "model.cons2= Constraint(expr=15*model.x[1] + 10*model.x[2] + 8*model.x[3] + 9*model.x[4] + 4*model.x[5]+ 20*model.x[6] <=50)\n",
    "# Wednesday\n",
    "model.cons3 = Constraint(expr=15*model.x[1] + 10*model.x[2] + 8*model.x[3] + 9*model.x[4] + 4*model.x[5]+ 20*model.x[6] <=50)\n",
    "# Thursday\n",
    "model.cons4 = Constraint(expr=15*model.x[1] + 10*model.x[2] + 8*model.x[3] + 9*model.x[4] + 4*model.x[5]+ 20*model.x[6] <=50)\n",
    "# Friday\n",
    "model.cons5 = Constraint(expr=20*model.x[1] + 15*model.x[2] + 12*model.x[3] + 13*model.x[4] + 8*model.x[5]+ 25*model.x[6] <=80)\n",
    "# Saturday\n",
    "model.cons6 = Constraint(expr=20*model.x[1] + 15*model.x[2] + 12*model.x[3] + 13*model.x[4] + 8*model.x[5]+ 25*model.x[6] <=80)\n",
    "# Sunday\n",
    "model.cons7 = Constraint(expr=20*model.x[1] + 15*model.x[2] + 12*model.x[3] + 13*model.x[4] + 8*model.x[5]+ 25*model.x[6] <=80)\n",
    "\n",
    "\n",
    "\n",
    "\n",
    "Solver = SolverFactory('glpk')\n",
    "\n",
    "# Solver = SolverFactory('gurobi')\n",
    "\n",
    "Results = Solver.solve(model)\n",
    "\n",
    "# Display solution\n",
    "display(model.OBJ)\n"
   ]
  },
  {
   "cell_type": "markdown",
   "metadata": {},
   "source": []
  },
  {
   "cell_type": "code",
   "execution_count": null,
   "metadata": {},
   "outputs": [],
   "source": []
  },
  {
   "cell_type": "code",
   "execution_count": null,
   "metadata": {},
   "outputs": [],
   "source": []
  },
  {
   "cell_type": "code",
   "execution_count": null,
   "metadata": {},
   "outputs": [],
   "source": []
  },
  {
   "cell_type": "code",
   "execution_count": 144,
   "metadata": {},
   "outputs": [
    {
     "name": "stdout",
     "output_type": "stream",
     "text": [
      "Model unknown\n",
      "\n",
      "  Variables:\n",
      "    x : Size=6, Index=x_index\n",
      "        Key : Lower : Value : Upper : Fixed : Stale : Domain\n",
      "          1 :     0 :   1.0 :     1 : False : False : Binary\n",
      "          2 :     0 :   1.0 :     1 : False : False : Binary\n",
      "          3 :     0 :   0.0 :     1 : False : False : Binary\n",
      "          4 :     0 :   0.0 :     1 : False : False : Binary\n",
      "          5 :     0 :   1.0 :     1 : False : False : Binary\n",
      "          6 :     0 :   1.0 :     1 : False : False : Binary\n",
      "\n",
      "  Objectives:\n",
      "    OBJ : Size=1, Index=None, Active=True\n",
      "        Key  : Active : Value\n",
      "        None :   True : 635.0\n",
      "\n",
      "  Constraints:\n",
      "    cons1 : Size=1\n",
      "        Key  : Lower : Body : Upper\n",
      "        None :  None : 49.0 :  50.0\n",
      "    cons2 : Size=1\n",
      "        Key  : Lower : Body : Upper\n",
      "        None :  None : 49.0 :  50.0\n",
      "    cons3 : Size=1\n",
      "        Key  : Lower : Body : Upper\n",
      "        None :  None : 49.0 :  50.0\n",
      "    cons4 : Size=1\n",
      "        Key  : Lower : Body : Upper\n",
      "        None :  None : 49.0 :  50.0\n",
      "    cons5 : Size=1\n",
      "        Key  : Lower : Body : Upper\n",
      "        None :  None : 68.0 :  80.0\n",
      "    cons6 : Size=1\n",
      "        Key  : Lower : Body : Upper\n",
      "        None :  None : 68.0 :  80.0\n",
      "    cons7 : Size=1\n",
      "        Key  : Lower : Body : Upper\n",
      "        None :  None : 68.0 :  80.0\n"
     ]
    }
   ],
   "source": [
    "display(model)"
   ]
  },
  {
   "cell_type": "markdown",
   "metadata": {},
   "source": [
    "# Bibliography"
   ]
  }
 ],
 "metadata": {
  "kernelspec": {
   "display_name": "Python 3",
   "language": "python",
   "name": "python3"
  },
  "language_info": {
   "codemirror_mode": {
    "name": "ipython",
    "version": 3
   },
   "file_extension": ".py",
   "mimetype": "text/x-python",
   "name": "python",
   "nbconvert_exporter": "python",
   "pygments_lexer": "ipython3",
   "version": "3.10.7"
  }
 },
 "nbformat": 4,
 "nbformat_minor": 2
}
