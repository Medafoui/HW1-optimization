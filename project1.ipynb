{
 "cells": [
  {
   "cell_type": "markdown",
   "metadata": {},
   "source": [
    "## Names: \n",
    "\n",
    "#### Mohamed Afif Chifaoui\n",
    "\n",
    "#### Ricardo Vazquez Alvarez\n",
    "\n",
    "---"
   ]
  },
  {
   "cell_type": "markdown",
   "metadata": {},
   "source": [
    "# Linear and Discrete Models First Homework\n",
    "\n",
    "\n",
    "## Problem statement:\n",
    "\n",
    "A service company operates in three shifts (Morning, Afternoon, Night) and needs to determine the number of employees assigned to each shift. The objective is to minimize labor costs while ensuring sufficient staffing levels for service demand.\n",
    "\n",
    "Firstly, we can determine that there are two types of sets for the model (the sets of shifts and the employee types). \n",
    "\n",
    "1. $S$: Set of Shifts (Morning, Afternoon, Nights)\n",
    "2. $E$: Set of employee types (Regular, Part-time, Temporary, On-call, Vacation, Training).\n",
    "\n",
    "The parameters to be used in the objective function and the constraints will be the following:\n",
    "\n",
    "1. $C_{e}$: Cost per hour for each employee type. ($e \\in E$)\n",
    "2. $D_{s}$: Service demand for each shift. ($s \\in S$).\n",
    "3. $M_{s}$: Maximum overtime hours allowed for each shift. ($s \\in S$)\n",
    "4. $U_{e}$: Maximum allowed number for each employee type. ($e \\in E$, Part-time, Temporary, On-call, Vacation, Training).\n",
    "\n",
    "The variables are those employees with their type ($e$) to be assigned to a shift ($s$).\n",
    "- $X_{es}$: Number of employees of type $e$ assigned to shift $s$.\n",
    "\n",
    "Leading to the Objective function:\n",
    "\n",
    "$$\\text{Minimize} \\;\\; Z = \\sum_{e\\in E}^{}\\sum_{s\\in S}^{} C_{e}\\cdot X_{es}$$\n",
    "\n",
    "\n",
    "\n",
    "### Decision Variables:\n",
    "\n",
    "The following are the individual decision variables that will be used:\n",
    "\n",
    "- $x_{1}$: Number of employees assigned to the Morning shift.\n",
    "- $x_{2}$: Number of employees assigned to the Afternoon shift.\n",
    "- $x_{3}$: Number of employees assigned to the Night shift.\n",
    "- $x_{4}$: Overtime hours for the Morning shift.\n",
    "- $x_{5}$: Overtime hours for the Afternoon shift.\n",
    "- $x_{6}$: Overtime hours for the Night shift.\n",
    "- $x_{7}$: Number of employees assigned to the Morning shift.\n",
    "- $x_{8}$: Number of employees assigned to the Afternoon shift.\n",
    "- $x_{9}$: Number of employees assigned to the Night shift.\n",
    "- $x_{10}$: Number of temporary employees assigned to the Morning shift.\n",
    "- $x_{11}$: Number of temporary employees assigned to the Afternoon shift.\n",
    "- $x_{12}$: Number of temporary employees assigned to the Night shift.\n",
    "- $x_{13}$: Number of on-call employees for the Morning shift.\n",
    "- $x_{14}$: Number of on-call employees for the Afternoon shift.\n",
    "- $x_{15}$: Number of on-call employees for the Night shift.\n",
    "- $x_{16}$: Number of employees on vacation during the Morning shift.\n",
    "- $x_{17}$: Number of employees on vacation during the Afternoon shift.\n",
    "- $x_{18}$: Number of employees on vacation during the Night shift.\n",
    "- $x_{19}$: Number of employees on training during the Morning shift.\n",
    "- $x_{20}$: Number of employees on training during the Afternoon shift.\n",
    "- $x_{21}$: Number of employees on training during the Night shift.\n",
    "\n",
    "\n",
    "### Constraints:\n",
    "\n",
    "1. Shift Coverage Constraints:\n",
    "$$\\sum_{e\\in E} X_{es} = D_{s} \\qquad \\text{for all} \\;\\;s \\in S$$\n",
    "\n",
    "2. Overtime Constraints:\n",
    "\n",
    "$$X_{4s} \\leq M_{s} \\qquad \\text{for all} \\;\\;s \\in S$$\n",
    "\n",
    "3. Employee Type Constraints:\n",
    "\n",
    "$$X_{7s}, X_{8s}, X_{9s} \\leq U_{\\text{Part-time}}$$\n",
    "\n",
    "$$X_{10s}, X_{11s}, X_{12s} \\leq U_{\\text{Temporary}}$$\n",
    "\n",
    "$$X_{13s}, X_{14s}, X_{15s} \\leq U_{\\text{On-call}}$$\n",
    "\n",
    "$$X_{16s}, X_{17s}, X_{18s} \\leq U_{\\text{Vacation}}$$\n",
    "\n",
    "$$X_{19s}, X_{20s} \\leq U_{\\text{Training}}$$\n",
    "\n",
    "4. Non-negativity constraints:\n",
    "\n",
    "$$ X_{es} \\geq 0 \\quad(\\text{for all}\\; e\\in E,\\; s\\in S)$$ \n"
   ]
  },
  {
   "cell_type": "code",
   "execution_count": null,
   "metadata": {},
   "outputs": [],
   "source": [
    "# add variables"
   ]
  },
  {
   "cell_type": "markdown",
   "metadata": {},
   "source": [
    "# Bibliography"
   ]
  }
 ],
 "metadata": {
  "language_info": {
   "name": "python"
  }
 },
 "nbformat": 4,
 "nbformat_minor": 2
}
